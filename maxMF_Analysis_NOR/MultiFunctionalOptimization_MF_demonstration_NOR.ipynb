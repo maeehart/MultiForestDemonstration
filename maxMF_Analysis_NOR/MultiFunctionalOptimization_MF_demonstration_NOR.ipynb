{
 "cells": [
  {
   "cell_type": "markdown",
   "metadata": {},
   "source": [
    "# MultiForest optimization notebook\n",
    "# NORWAY"
   ]
  },
  {
   "cell_type": "markdown",
   "metadata": {},
   "source": [
    "Above the code cells, there are short instructions how the users can modify the codes in the cells.<br>\n",
    "If there are no instructions, no changes should be needed for the cell by default.\n",
    "\n",
    "A detailed description is provided in the <b>README.md</b>.\n",
    "\n",
    "## Basic definitions\n",
    "Simulated forest data - name and climate scenario"
   ]
  },
  {
   "cell_type": "code",
   "execution_count": 1,
   "metadata": {},
   "outputs": [],
   "source": [
    "RCP = \"RCP45\" # NDC scenario"
   ]
  },
  {
   "cell_type": "markdown",
   "metadata": {},
   "source": [
    "Specify policy scenario:\n",
    "\n",
    "- \"FS\" -  National Forest Strategy\n",
    "- \"BDS\" - Biodiversity Strategy\n",
    "- \"BES\" - Bioeconomy Strategy"
   ]
  },
  {
   "cell_type": "code",
   "execution_count": 2,
   "metadata": {},
   "outputs": [],
   "source": [
    "scenario =\"BES\""
   ]
  },
  {
   "cell_type": "markdown",
   "metadata": {},
   "source": [
    "## Read .py class & data"
   ]
  },
  {
   "cell_type": "code",
   "execution_count": 3,
   "metadata": {},
   "outputs": [],
   "source": [
    "import wget\n",
    "import os\n",
    "import numpy as np\n",
    "import pandas as pd\n",
    "import sys"
   ]
  },
  {
   "cell_type": "code",
   "execution_count": 4,
   "metadata": {
    "scrolled": true
   },
   "outputs": [],
   "source": [
    "module_path = os.path.abspath(os.path.join('..'))\n",
    "if module_path not in sys.path:\n",
    "    sys.path.append(module_path+\"/py_class\")\n",
    "\n",
    "import multiFunctionalOptimization as MFO"
   ]
  },
  {
   "cell_type": "code",
   "execution_count": 5,
   "metadata": {},
   "outputs": [
    {
     "data": {
      "text/plain": [
       "<module 'multiFunctionalOptimization' from '/run/user/1041/gvfs/smb-share:server=int.nibio.no,share=prosjekt/Aktive/DSU/3434/51238_MultiForest/WP2/Repository/MultiForestDemonstration/NatPolicyAnalysis_NOR/multiFunctionalOptimization.py'>"
      ]
     },
     "execution_count": 5,
     "metadata": {},
     "output_type": "execute_result"
    }
   ],
   "source": [
    "from importlib import reload\n",
    "reload(MFO)"
   ]
  },
  {
   "cell_type": "code",
   "execution_count": 6,
   "metadata": {},
   "outputs": [
    {
     "data": {
      "text/plain": [
       "'Using CLP'"
      ]
     },
     "metadata": {},
     "output_type": "display_data"
    }
   ],
   "source": [
    "mfo = MFO.MultiFunctionalOptimization()"
   ]
  },
  {
   "cell_type": "markdown",
   "metadata": {},
   "source": [
    "<b>You need to \"unrar\" the file testData.rar first</b>"
   ]
  },
  {
   "cell_type": "code",
   "execution_count": 7,
   "metadata": {},
   "outputs": [],
   "source": [
    "pip install patool"
   ]
  },
  {
   "cell_type": "code",
   "execution_count": 8,
   "metadata": {},
   "outputs": [
    {
     "data": {
      "text/plain": [
       "'testData.csv'"
      ]
     },
     "execution_count": 8,
     "metadata": {},
     "output_type": "execute_result"
    }
   ],
   "source": [
    "import patoolib\n",
    "patoolib.extract_archive(\"../NatPolicyAnalysis_NOR/testData.rar\")\n",
    "filename = \"testData.csv\"\n",
    "filename"
   ]
  },
  {
   "cell_type": "code",
   "execution_count": 9,
   "metadata": {},
   "outputs": [
    {
     "data": {
      "text/plain": [
       "'sample size 581/1938(29%)'"
      ]
     },
     "metadata": {},
     "output_type": "display_data"
    },
    {
     "name": "stdout",
     "output_type": "stream",
     "text": [
      "CPU times: user 1.09 s, sys: 634 ms, total: 1.73 s\n",
      "Wall time: 2.93 s\n"
     ]
    }
   ],
   "source": [
    "%%time\n",
    "mfo.readData(filename,standsEnu = \"plot_id\",delimeter = \",\",\n",
    "             areaCol = \"tsd_ha2total\", \n",
    "             sampleRatio=0.3) #If no sample ratio given, the ratio is assumed to be 1\n",
    "                             #0.2 means 20% of the data"
   ]
  },
  {
   "cell_type": "code",
   "execution_count": 10,
   "metadata": {},
   "outputs": [
    {
     "data": {
      "text/plain": [
       "Index(['plot_id', 'year', 'regime', 'period', 'pulp_vol_m3',\n",
       "       'harv_cost_nok_m3', 'harv_cost_u150', 'harv_cost_u200',\n",
       "       'net_increment_m3', 'is_old', 'is_broadleave', 'MiS_classified_plot',\n",
       "       'bilberry_cover_pr', 'GROT_kt_TotNor', 'vol_saw_m3', 'saw_CO2_t',\n",
       "       'vol_panels_m3', 'panels_CO2_t', 'albedo', 'is_steep_terrain',\n",
       "       'is_vernskog', 'is_city_forest', 'shan', 'class_dbh', 'ha2total',\n",
       "       'management', 'harv_net_Mnok_TotNor', 'harv_vol_Mm3_TotNor',\n",
       "       'saw_vol_Mm3_TotNor', 'pulp_vol_Mm3_TotNor', 'dead_vol_Mm3_TotNor',\n",
       "       'tsd_ha2total', 'CO2_forest_Mil_Kt_TotNor',\n",
       "       'CO2_forest_Mil_Kt_TotNor_no_albedo', 'saw_CO2_change_Kt_TotNor',\n",
       "       'saw_CO2_Kt_TotNor', 'panels_CO2_change_Kt_TotNor', 'HWP_C02_TotNor',\n",
       "       'Bilberry_ha_TotNor', 'MiS_ha', 'SawTimber_Mm3_year', 'pulp_Mm3_year',\n",
       "       'GROT_t', 'GROT_m3', 'GROT_Mm3', 'Residues_Mm3_year',\n",
       "       'harvest_demands_Mm3_year', 'regime.class', 'finalFelling', 'is_CCF',\n",
       "       'is_nomanagement', 'is_vers_or_ste', 'FinaL_versk', 'FinaL_city',\n",
       "       'High_classdbh', 'Sha_highclassdbh_Tot_Nor', 'Relative_albedo',\n",
       "       'Relative_shan', 'Relative_ha2total', 'Relative_dead_vol_Mm3_TotNor',\n",
       "       'Relative_tsd_ha2total', 'Relative_CO2_forest_Mil_Kt_TotNor',\n",
       "       'Relative_CO2_forest_Mil_Kt_TotNor_no_albedo',\n",
       "       'Relative_Bilberry_ha_TotNor', 'Relative_MiS_ha',\n",
       "       'Relative_Sha_highclassdbh_Tot_Nor'],\n",
       "      dtype='object')"
      ]
     },
     "execution_count": 10,
     "metadata": {},
     "output_type": "execute_result"
    }
   ],
   "source": [
    "mfo.data.columns"
   ]
  },
  {
   "cell_type": "markdown",
   "metadata": {},
   "source": [
    "## Create new columns"
   ]
  },
  {
   "cell_type": "code",
   "execution_count": 11,
   "metadata": {},
   "outputs": [],
   "source": [
    "mfo.data[\"GROT_u150\"] = (mfo.data[\"GROT_kt_TotNor\"].values)*mfo.data[\"harv_cost_u150\"].values"
   ]
  },
  {
   "cell_type": "code",
   "execution_count": 12,
   "metadata": {},
   "outputs": [],
   "source": [
    "mfo.data[\"MIS_area\"] = (mfo.data[\"MiS_classified_plot\"].values)*mfo.data[\"tsd_ha2total\"].values/1000"
   ]
  },
  {
   "cell_type": "code",
   "execution_count": 13,
   "metadata": {},
   "outputs": [],
   "source": [
    "mfo.data[\"bilberry_cover\"] = (mfo.data)[\"bilberry_cover_pr\"].values/100*mfo.data[\"tsd_ha2total\"].values"
   ]
  },
  {
   "cell_type": "code",
   "execution_count": 14,
   "metadata": {},
   "outputs": [],
   "source": [
    "mfo.finalizeData(initialTime = 2023)"
   ]
  },
  {
   "cell_type": "code",
   "execution_count": 15,
   "metadata": {},
   "outputs": [
    {
     "data": {
      "text/html": [
       "<div>\n",
       "<style scoped>\n",
       "    .dataframe tbody tr th:only-of-type {\n",
       "        vertical-align: middle;\n",
       "    }\n",
       "\n",
       "    .dataframe tbody tr th {\n",
       "        vertical-align: top;\n",
       "    }\n",
       "\n",
       "    .dataframe thead th {\n",
       "        text-align: right;\n",
       "    }\n",
       "</style>\n",
       "<table border=\"1\" class=\"dataframe\">\n",
       "  <thead>\n",
       "    <tr style=\"text-align: right;\">\n",
       "      <th></th>\n",
       "      <th></th>\n",
       "      <th></th>\n",
       "      <th>period</th>\n",
       "      <th>pulp_vol_m3</th>\n",
       "      <th>harv_cost_nok_m3</th>\n",
       "      <th>harv_cost_u150</th>\n",
       "      <th>harv_cost_u200</th>\n",
       "      <th>net_increment_m3</th>\n",
       "      <th>is_old</th>\n",
       "      <th>is_broadleave</th>\n",
       "      <th>MiS_classified_plot</th>\n",
       "      <th>bilberry_cover_pr</th>\n",
       "      <th>...</th>\n",
       "      <th>Relative_dead_vol_Mm3_TotNor</th>\n",
       "      <th>Relative_tsd_ha2total</th>\n",
       "      <th>Relative_CO2_forest_Mil_Kt_TotNor</th>\n",
       "      <th>Relative_CO2_forest_Mil_Kt_TotNor_no_albedo</th>\n",
       "      <th>Relative_Bilberry_ha_TotNor</th>\n",
       "      <th>Relative_MiS_ha</th>\n",
       "      <th>Relative_Sha_highclassdbh_Tot_Nor</th>\n",
       "      <th>GROT_u150</th>\n",
       "      <th>MIS_area</th>\n",
       "      <th>bilberry_cover</th>\n",
       "    </tr>\n",
       "    <tr>\n",
       "      <th>plot_id</th>\n",
       "      <th>year</th>\n",
       "      <th>regime</th>\n",
       "      <th></th>\n",
       "      <th></th>\n",
       "      <th></th>\n",
       "      <th></th>\n",
       "      <th></th>\n",
       "      <th></th>\n",
       "      <th></th>\n",
       "      <th></th>\n",
       "      <th></th>\n",
       "      <th></th>\n",
       "      <th></th>\n",
       "      <th></th>\n",
       "      <th></th>\n",
       "      <th></th>\n",
       "      <th></th>\n",
       "      <th></th>\n",
       "      <th></th>\n",
       "      <th></th>\n",
       "      <th></th>\n",
       "      <th></th>\n",
       "      <th></th>\n",
       "    </tr>\n",
       "  </thead>\n",
       "  <tbody>\n",
       "    <tr>\n",
       "      <th rowspan=\"5\" valign=\"top\">A03189-0</th>\n",
       "      <th rowspan=\"5\" valign=\"top\">2023</th>\n",
       "      <th>SimOpt_extensive_0</th>\n",
       "      <td>t1</td>\n",
       "      <td>0.000000</td>\n",
       "      <td>0.000000</td>\n",
       "      <td>0</td>\n",
       "      <td>0</td>\n",
       "      <td>9987.605883</td>\n",
       "      <td>0</td>\n",
       "      <td>0</td>\n",
       "      <td>0</td>\n",
       "      <td>10</td>\n",
       "      <td>...</td>\n",
       "      <td>0.001162</td>\n",
       "      <td>0.000533</td>\n",
       "      <td>0.001871</td>\n",
       "      <td>0.002056</td>\n",
       "      <td>0.000689</td>\n",
       "      <td>0.0</td>\n",
       "      <td>0.000916</td>\n",
       "      <td>0.0</td>\n",
       "      <td>0.0</td>\n",
       "      <td>0.090124</td>\n",
       "    </tr>\n",
       "    <tr>\n",
       "      <th>SimOpt_extensive_long_0</th>\n",
       "      <td>t1</td>\n",
       "      <td>0.000000</td>\n",
       "      <td>0.000000</td>\n",
       "      <td>0</td>\n",
       "      <td>0</td>\n",
       "      <td>9987.605883</td>\n",
       "      <td>0</td>\n",
       "      <td>0</td>\n",
       "      <td>0</td>\n",
       "      <td>10</td>\n",
       "      <td>...</td>\n",
       "      <td>0.001162</td>\n",
       "      <td>0.000533</td>\n",
       "      <td>0.001871</td>\n",
       "      <td>0.002056</td>\n",
       "      <td>0.000689</td>\n",
       "      <td>0.0</td>\n",
       "      <td>0.000916</td>\n",
       "      <td>0.0</td>\n",
       "      <td>0.0</td>\n",
       "      <td>0.090124</td>\n",
       "    </tr>\n",
       "    <tr>\n",
       "      <th>SimOpt_int_0</th>\n",
       "      <td>t1</td>\n",
       "      <td>0.000000</td>\n",
       "      <td>0.000000</td>\n",
       "      <td>0</td>\n",
       "      <td>0</td>\n",
       "      <td>9987.605883</td>\n",
       "      <td>0</td>\n",
       "      <td>0</td>\n",
       "      <td>0</td>\n",
       "      <td>10</td>\n",
       "      <td>...</td>\n",
       "      <td>0.001162</td>\n",
       "      <td>0.000533</td>\n",
       "      <td>0.001871</td>\n",
       "      <td>0.002056</td>\n",
       "      <td>0.000689</td>\n",
       "      <td>0.0</td>\n",
       "      <td>0.000916</td>\n",
       "      <td>0.0</td>\n",
       "      <td>0.0</td>\n",
       "      <td>0.090124</td>\n",
       "    </tr>\n",
       "    <tr>\n",
       "      <th>SimOpt_int_short_0</th>\n",
       "      <td>t1</td>\n",
       "      <td>124010.473495</td>\n",
       "      <td>215.702789</td>\n",
       "      <td>0</td>\n",
       "      <td>0</td>\n",
       "      <td>5373.560798</td>\n",
       "      <td>0</td>\n",
       "      <td>0</td>\n",
       "      <td>0</td>\n",
       "      <td>6</td>\n",
       "      <td>...</td>\n",
       "      <td>0.001111</td>\n",
       "      <td>0.000533</td>\n",
       "      <td>-0.014930</td>\n",
       "      <td>-0.015218</td>\n",
       "      <td>0.000413</td>\n",
       "      <td>0.0</td>\n",
       "      <td>0.000000</td>\n",
       "      <td>0.0</td>\n",
       "      <td>0.0</td>\n",
       "      <td>0.054074</td>\n",
       "    </tr>\n",
       "    <tr>\n",
       "      <th>SimOpt_multispecies_0</th>\n",
       "      <td>t1</td>\n",
       "      <td>0.000000</td>\n",
       "      <td>0.000000</td>\n",
       "      <td>0</td>\n",
       "      <td>0</td>\n",
       "      <td>9987.605883</td>\n",
       "      <td>0</td>\n",
       "      <td>0</td>\n",
       "      <td>0</td>\n",
       "      <td>10</td>\n",
       "      <td>...</td>\n",
       "      <td>0.001162</td>\n",
       "      <td>0.000533</td>\n",
       "      <td>0.001871</td>\n",
       "      <td>0.002056</td>\n",
       "      <td>0.000689</td>\n",
       "      <td>0.0</td>\n",
       "      <td>0.000916</td>\n",
       "      <td>0.0</td>\n",
       "      <td>0.0</td>\n",
       "      <td>0.090124</td>\n",
       "    </tr>\n",
       "  </tbody>\n",
       "</table>\n",
       "<p>5 rows × 66 columns</p>\n",
       "</div>"
      ],
      "text/plain": [
       "                                      period    pulp_vol_m3  harv_cost_nok_m3  \\\n",
       "plot_id  year regime                                                            \n",
       "A03189-0 2023 SimOpt_extensive_0          t1       0.000000          0.000000   \n",
       "              SimOpt_extensive_long_0     t1       0.000000          0.000000   \n",
       "              SimOpt_int_0                t1       0.000000          0.000000   \n",
       "              SimOpt_int_short_0          t1  124010.473495        215.702789   \n",
       "              SimOpt_multispecies_0       t1       0.000000          0.000000   \n",
       "\n",
       "                                       harv_cost_u150  harv_cost_u200  \\\n",
       "plot_id  year regime                                                    \n",
       "A03189-0 2023 SimOpt_extensive_0                    0               0   \n",
       "              SimOpt_extensive_long_0               0               0   \n",
       "              SimOpt_int_0                          0               0   \n",
       "              SimOpt_int_short_0                    0               0   \n",
       "              SimOpt_multispecies_0                 0               0   \n",
       "\n",
       "                                       net_increment_m3  is_old  \\\n",
       "plot_id  year regime                                              \n",
       "A03189-0 2023 SimOpt_extensive_0            9987.605883       0   \n",
       "              SimOpt_extensive_long_0       9987.605883       0   \n",
       "              SimOpt_int_0                  9987.605883       0   \n",
       "              SimOpt_int_short_0            5373.560798       0   \n",
       "              SimOpt_multispecies_0         9987.605883       0   \n",
       "\n",
       "                                       is_broadleave  MiS_classified_plot  \\\n",
       "plot_id  year regime                                                        \n",
       "A03189-0 2023 SimOpt_extensive_0                   0                    0   \n",
       "              SimOpt_extensive_long_0              0                    0   \n",
       "              SimOpt_int_0                         0                    0   \n",
       "              SimOpt_int_short_0                   0                    0   \n",
       "              SimOpt_multispecies_0                0                    0   \n",
       "\n",
       "                                       bilberry_cover_pr  ...  \\\n",
       "plot_id  year regime                                      ...   \n",
       "A03189-0 2023 SimOpt_extensive_0                      10  ...   \n",
       "              SimOpt_extensive_long_0                 10  ...   \n",
       "              SimOpt_int_0                            10  ...   \n",
       "              SimOpt_int_short_0                       6  ...   \n",
       "              SimOpt_multispecies_0                   10  ...   \n",
       "\n",
       "                                       Relative_dead_vol_Mm3_TotNor  \\\n",
       "plot_id  year regime                                                  \n",
       "A03189-0 2023 SimOpt_extensive_0                           0.001162   \n",
       "              SimOpt_extensive_long_0                      0.001162   \n",
       "              SimOpt_int_0                                 0.001162   \n",
       "              SimOpt_int_short_0                           0.001111   \n",
       "              SimOpt_multispecies_0                        0.001162   \n",
       "\n",
       "                                       Relative_tsd_ha2total  \\\n",
       "plot_id  year regime                                           \n",
       "A03189-0 2023 SimOpt_extensive_0                    0.000533   \n",
       "              SimOpt_extensive_long_0               0.000533   \n",
       "              SimOpt_int_0                          0.000533   \n",
       "              SimOpt_int_short_0                    0.000533   \n",
       "              SimOpt_multispecies_0                 0.000533   \n",
       "\n",
       "                                       Relative_CO2_forest_Mil_Kt_TotNor  \\\n",
       "plot_id  year regime                                                       \n",
       "A03189-0 2023 SimOpt_extensive_0                                0.001871   \n",
       "              SimOpt_extensive_long_0                           0.001871   \n",
       "              SimOpt_int_0                                      0.001871   \n",
       "              SimOpt_int_short_0                               -0.014930   \n",
       "              SimOpt_multispecies_0                             0.001871   \n",
       "\n",
       "                                       Relative_CO2_forest_Mil_Kt_TotNor_no_albedo  \\\n",
       "plot_id  year regime                                                                 \n",
       "A03189-0 2023 SimOpt_extensive_0                                          0.002056   \n",
       "              SimOpt_extensive_long_0                                     0.002056   \n",
       "              SimOpt_int_0                                                0.002056   \n",
       "              SimOpt_int_short_0                                         -0.015218   \n",
       "              SimOpt_multispecies_0                                       0.002056   \n",
       "\n",
       "                                       Relative_Bilberry_ha_TotNor  \\\n",
       "plot_id  year regime                                                 \n",
       "A03189-0 2023 SimOpt_extensive_0                          0.000689   \n",
       "              SimOpt_extensive_long_0                     0.000689   \n",
       "              SimOpt_int_0                                0.000689   \n",
       "              SimOpt_int_short_0                          0.000413   \n",
       "              SimOpt_multispecies_0                       0.000689   \n",
       "\n",
       "                                       Relative_MiS_ha  \\\n",
       "plot_id  year regime                                     \n",
       "A03189-0 2023 SimOpt_extensive_0                   0.0   \n",
       "              SimOpt_extensive_long_0              0.0   \n",
       "              SimOpt_int_0                         0.0   \n",
       "              SimOpt_int_short_0                   0.0   \n",
       "              SimOpt_multispecies_0                0.0   \n",
       "\n",
       "                                       Relative_Sha_highclassdbh_Tot_Nor  \\\n",
       "plot_id  year regime                                                       \n",
       "A03189-0 2023 SimOpt_extensive_0                                0.000916   \n",
       "              SimOpt_extensive_long_0                           0.000916   \n",
       "              SimOpt_int_0                                      0.000916   \n",
       "              SimOpt_int_short_0                                0.000000   \n",
       "              SimOpt_multispecies_0                             0.000916   \n",
       "\n",
       "                                       GROT_u150  MIS_area  bilberry_cover  \n",
       "plot_id  year regime                                                        \n",
       "A03189-0 2023 SimOpt_extensive_0             0.0       0.0        0.090124  \n",
       "              SimOpt_extensive_long_0        0.0       0.0        0.090124  \n",
       "              SimOpt_int_0                   0.0       0.0        0.090124  \n",
       "              SimOpt_int_short_0             0.0       0.0        0.054074  \n",
       "              SimOpt_multispecies_0          0.0       0.0        0.090124  \n",
       "\n",
       "[5 rows x 66 columns]"
      ]
     },
     "execution_count": 15,
     "metadata": {},
     "output_type": "execute_result"
    }
   ],
   "source": [
    "mfo.initialData.head()"
   ]
  },
  {
   "cell_type": "markdown",
   "metadata": {},
   "source": [
    "## Objectives"
   ]
  },
  {
   "cell_type": "code",
   "execution_count": 16,
   "metadata": {},
   "outputs": [],
   "source": [
    "\n",
    "Wood_production =  {\n",
    "    \"harvest_netvalue_Mnok_min\": [\"netvalue (Millions nok/m2)\", \"harv_net_Mnok_TotNor\", \n",
    "                                  \"max\",\"average\",\"areaWeightedSum\"],\n",
    "    \n",
    "    \"Sum_harvested_V\": [\"netvalue (Millions nok/m2)\",\"harv_vol_Mm3_TotNor\",\n",
    "                        \"max\",\"average\",\"areaWeightedSum\"] \n",
    "}\n"
   ]
  },
  {
   "cell_type": "code",
   "execution_count": 17,
   "metadata": {},
   "outputs": [],
   "source": [
    "\n",
    "Bioenergy = {\n",
    "    \n",
    "     \"SUM_GROT_u150\": [\"GROT (KiloTons)\",\"GROT_u150\", \n",
    "                       \"max\",\"min\",\"areaWeightedSum\"],\n",
    "   \n",
    "}"
   ]
  },
  {
   "cell_type": "code",
   "execution_count": 18,
   "metadata": {},
   "outputs": [],
   "source": [
    "\n",
    "Biodiversity = {\n",
    "    \"SUM_MIS\":[\"MIS area\",\"MIS_area\", \n",
    "               \"max\",\"average\",\"areaWeightedSum\"],\n",
    "    \n",
    "    \"blueberryMaxMin\":[\"MaxMin in area of blueberry cover (max)\",\"bilberry_cover\",\n",
    "                       \"max\",\"average\",\"areaWeightedSum\"],\n",
    "    \n",
    "    \"SUM_deadwood\":[\"Deadwood\",\"dead_vol_Mm3_TotNor\",\n",
    "                    \"max\",\"min\",\"areaWeightedSum\"],\n",
    "}"
   ]
  },
  {
   "cell_type": "code",
   "execution_count": 19,
   "metadata": {},
   "outputs": [],
   "source": [
    "\n",
    "Climate_regulation = {\n",
    "    \"Sum_CO2_HWP_kt\": [\"Co2 storage in wooden products\",\"HWP_C02_TotNor\",\n",
    "                       \"max\",\"min\",\"areaWeightedSum\"],\n",
    "    \n",
    "    \"Sum_CO2_in_forest\": [\"Co2 uptake in forest\",\"CO2_forest_Mil_Kt_TotNor\", \n",
    "                          \"max\",\"min\",\"areaWeightedSum\"],\n",
    "}"
   ]
  },
  {
   "cell_type": "code",
   "execution_count": 20,
   "metadata": {},
   "outputs": [],
   "source": [
    "\n",
    "Erosion_and_water = {\n",
    "    \"harvested_in_vernskog_or_steep\": [\"verskog ha\",\"is_vers_or_ste\", \n",
    "                                      \"max\",\"min\",\"areaWeightedSum\"],\n",
    "}"
   ]
  },
  {
   "cell_type": "code",
   "execution_count": 21,
   "metadata": {},
   "outputs": [],
   "source": [
    "\n",
    "Recreation = {\n",
    "      \"harvest_in_cityForest\": [\"harvest in city forest\", \"FinaL_city\",\n",
    "                                \"max\", \"average\", \"areaWeightedSum\"],\n",
    "    \n",
    "      \"SUM_Shannon\":[\"Shannon index\", \"shan\",\n",
    "                     \"max\", \"average\",\"sum\"],\n",
    "    \n",
    "    \n",
    "}"
   ]
  },
  {
   "cell_type": "code",
   "execution_count": 22,
   "metadata": {},
   "outputs": [],
   "source": [
    "objectives = {\n",
    "    **Wood_production,\n",
    "    **Bioenergy,\n",
    "    **Biodiversity,\n",
    "    **Climate_regulation,\n",
    "    **Recreation,\n",
    "    **Erosion_and_water\n",
    "}"
   ]
  },
  {
   "cell_type": "code",
   "execution_count": 23,
   "metadata": {},
   "outputs": [
    {
     "data": {
      "text/plain": [
       "{'harvest_netvalue_Mnok_min': ['netvalue (Millions nok/m2)',\n",
       "  'harv_net_Mnok_TotNor',\n",
       "  'max',\n",
       "  'average',\n",
       "  'areaWeightedSum'],\n",
       " 'Sum_harvested_V': ['netvalue (Millions nok/m2)',\n",
       "  'harv_vol_Mm3_TotNor',\n",
       "  'max',\n",
       "  'average',\n",
       "  'areaWeightedSum'],\n",
       " 'SUM_GROT_u150': ['GROT (KiloTons)',\n",
       "  'GROT_u150',\n",
       "  'max',\n",
       "  'min',\n",
       "  'areaWeightedSum'],\n",
       " 'SUM_MIS': ['MIS area', 'MIS_area', 'max', 'average', 'areaWeightedSum'],\n",
       " 'blueberryMaxMin': ['MaxMin in area of blueberry cover (max)',\n",
       "  'bilberry_cover',\n",
       "  'max',\n",
       "  'average',\n",
       "  'areaWeightedSum'],\n",
       " 'SUM_deadwood': ['Deadwood',\n",
       "  'dead_vol_Mm3_TotNor',\n",
       "  'max',\n",
       "  'min',\n",
       "  'areaWeightedSum'],\n",
       " 'Sum_CO2_HWP_kt': ['Co2 storage in wooden products',\n",
       "  'HWP_C02_TotNor',\n",
       "  'max',\n",
       "  'min',\n",
       "  'areaWeightedSum'],\n",
       " 'Sum_CO2_in_forest': ['Co2 uptake in forest',\n",
       "  'CO2_forest_Mil_Kt_TotNor',\n",
       "  'max',\n",
       "  'min',\n",
       "  'areaWeightedSum'],\n",
       " 'harvest_in_cityForest': ['harvest in city forest',\n",
       "  'FinaL_city',\n",
       "  'max',\n",
       "  'average',\n",
       "  'areaWeightedSum'],\n",
       " 'SUM_Shannon': ['Shannon index', 'shan', 'max', 'average', 'sum'],\n",
       " 'harvested_in_vernskog_or_steep': ['verskog ha',\n",
       "  'is_vers_or_ste',\n",
       "  'max',\n",
       "  'min',\n",
       "  'areaWeightedSum']}"
      ]
     },
     "execution_count": 23,
     "metadata": {},
     "output_type": "execute_result"
    }
   ],
   "source": [
    "objectives"
   ]
  },
  {
   "cell_type": "code",
   "execution_count": 24,
   "metadata": {},
   "outputs": [
    {
     "data": {
      "text/plain": [
       "11"
      ]
     },
     "execution_count": 24,
     "metadata": {},
     "output_type": "execute_result"
    }
   ],
   "source": [
    "len(objectives)"
   ]
  },
  {
   "cell_type": "markdown",
   "metadata": {},
   "source": [
    "## Define Enabled Constrains"
   ]
  },
  {
   "cell_type": "code",
   "execution_count": 25,
   "metadata": {},
   "outputs": [
    {
     "data": {
      "text/plain": [
       "'Defining objectives'"
      ]
     },
     "metadata": {},
     "output_type": "display_data"
    },
    {
     "data": {
      "text/plain": [
       "'Aggregating stand wise'"
      ]
     },
     "metadata": {},
     "output_type": "display_data"
    },
    {
     "name": "stderr",
     "output_type": "stream",
     "text": [
      "100%|██████████| 11/11 [00:17<00:00,  1.55s/it]\n"
     ]
    },
    {
     "data": {
      "text/plain": [
       "'Aggregating year wise'"
      ]
     },
     "metadata": {},
     "output_type": "display_data"
    },
    {
     "name": "stdout",
     "output_type": "stream",
     "text": [
      "100%|██████████| 11/11 [00:00<00:00, 9505.02it/s]\n"
     ]
    },
    {
     "data": {
      "text/plain": [
       "'Objectives added'"
      ]
     },
     "metadata": {},
     "output_type": "display_data"
    }
   ],
   "source": [
    "mfo.defineObjectives(objectives)"
   ]
  },
  {
   "cell_type": "markdown",
   "metadata": {},
   "source": [
    "## Calculate objective ranges"
   ]
  },
  {
   "cell_type": "markdown",
   "metadata": {},
   "source": [
    "You can run the following function twice to improve ranges accuracy.\n",
    "\n",
    "Especially, if some objectives get as lowerbounds 0:s, then it makes sense to reoptimize"
   ]
  },
  {
   "cell_type": "code",
   "execution_count": 26,
   "metadata": {
    "scrolled": false
   },
   "outputs": [
    {
     "data": {
      "text/plain": [
       "'Calculating objective ranges'"
      ]
     },
     "metadata": {},
     "output_type": "display_data"
    },
    {
     "name": "stdout",
     "output_type": "stream",
     "text": [
      "\r",
      "  0%|          | 0/11 [00:00<?, ?it/s]"
     ]
    },
    {
     "data": {
      "text/plain": [
       "'Optimizing for netvalue (Millions nok/m2)'"
      ]
     },
     "metadata": {},
     "output_type": "display_data"
    },
    {
     "data": {
      "text/plain": [
       "'Found an optimal solution in 0 seconds'"
      ]
     },
     "metadata": {},
     "output_type": "display_data"
    },
    {
     "data": {
      "text/plain": [
       "'Objective values are:'"
      ]
     },
     "metadata": {},
     "output_type": "display_data"
    },
    {
     "data": {
      "text/plain": [
       "'netvalue (Millions nok/m2)'"
      ]
     },
     "metadata": {},
     "output_type": "display_data"
    },
    {
     "data": {
      "text/plain": [
       "4278.090263973933"
      ]
     },
     "metadata": {},
     "output_type": "display_data"
    },
    {
     "data": {
      "text/plain": [
       "'netvalue (Millions nok/m2)'"
      ]
     },
     "metadata": {},
     "output_type": "display_data"
    },
    {
     "data": {
      "text/plain": [
       "22.020473186776428"
      ]
     },
     "metadata": {},
     "output_type": "display_data"
    },
    {
     "data": {
      "text/plain": [
       "'GROT (KiloTons)'"
      ]
     },
     "metadata": {},
     "output_type": "display_data"
    },
    {
     "data": {
      "text/plain": [
       "0.0"
      ]
     },
     "metadata": {},
     "output_type": "display_data"
    },
    {
     "data": {
      "text/plain": [
       "'MIS area'"
      ]
     },
     "metadata": {},
     "output_type": "display_data"
    },
    {
     "data": {
      "text/plain": [
       "0.5801947198013355"
      ]
     },
     "metadata": {},
     "output_type": "display_data"
    },
    {
     "data": {
      "text/plain": [
       "'MaxMin in area of blueberry cover (max)'"
      ]
     },
     "metadata": {},
     "output_type": "display_data"
    },
    {
     "data": {
      "text/plain": [
       "123.26703810105272"
      ]
     },
     "metadata": {},
     "output_type": "display_data"
    },
    {
     "data": {
      "text/plain": [
       "'Deadwood'"
      ]
     },
     "metadata": {},
     "output_type": "display_data"
    },
    {
     "data": {
      "text/plain": [
       "0.0"
      ]
     },
     "metadata": {},
     "output_type": "display_data"
    },
    {
     "data": {
      "text/plain": [
       "'Co2 storage in wooden products'"
      ]
     },
     "metadata": {},
     "output_type": "display_data"
    },
    {
     "data": {
      "text/plain": [
       "0.0"
      ]
     },
     "metadata": {},
     "output_type": "display_data"
    },
    {
     "data": {
      "text/plain": [
       "'Co2 uptake in forest'"
      ]
     },
     "metadata": {},
     "output_type": "display_data"
    },
    {
     "data": {
      "text/plain": [
       "-132.03930614903416"
      ]
     },
     "metadata": {},
     "output_type": "display_data"
    },
    {
     "data": {
      "text/plain": [
       "'harvest in city forest'"
      ]
     },
     "metadata": {},
     "output_type": "display_data"
    },
    {
     "data": {
      "text/plain": [
       "18.32517266666782"
      ]
     },
     "metadata": {},
     "output_type": "display_data"
    },
    {
     "data": {
      "text/plain": [
       "'Shannon index'"
      ]
     },
     "metadata": {},
     "output_type": "display_data"
    },
    {
     "data": {
      "text/plain": [
       "882.329178467493"
      ]
     },
     "metadata": {},
     "output_type": "display_data"
    },
    {
     "data": {
      "text/plain": [
       "'verskog ha'"
      ]
     },
     "metadata": {},
     "output_type": "display_data"
    },
    {
     "data": {
      "text/plain": [
       "0.0"
      ]
     },
     "metadata": {},
     "output_type": "display_data"
    },
    {
     "name": "stdout",
     "output_type": "stream",
     "text": [
      "\r",
      "  9%|▉         | 1/11 [00:02<00:22,  2.29s/it]"
     ]
    },
    {
     "data": {
      "text/plain": [
       "'Optimizing for netvalue (Millions nok/m2)'"
      ]
     },
     "metadata": {},
     "output_type": "display_data"
    },
    {
     "data": {
      "text/plain": [
       "'Found an optimal solution in 0 seconds'"
      ]
     },
     "metadata": {},
     "output_type": "display_data"
    },
    {
     "data": {
      "text/plain": [
       "'Objective values are:'"
      ]
     },
     "metadata": {},
     "output_type": "display_data"
    },
    {
     "data": {
      "text/plain": [
       "'netvalue (Millions nok/m2)'"
      ]
     },
     "metadata": {},
     "output_type": "display_data"
    },
    {
     "data": {
      "text/plain": [
       "2667.0471242607036"
      ]
     },
     "metadata": {},
     "output_type": "display_data"
    },
    {
     "data": {
      "text/plain": [
       "'netvalue (Millions nok/m2)'"
      ]
     },
     "metadata": {},
     "output_type": "display_data"
    },
    {
     "data": {
      "text/plain": [
       "26.472194682247512"
      ]
     },
     "metadata": {},
     "output_type": "display_data"
    },
    {
     "data": {
      "text/plain": [
       "'GROT (KiloTons)'"
      ]
     },
     "metadata": {},
     "output_type": "display_data"
    },
    {
     "data": {
      "text/plain": [
       "0.0"
      ]
     },
     "metadata": {},
     "output_type": "display_data"
    },
    {
     "data": {
      "text/plain": [
       "'MIS area'"
      ]
     },
     "metadata": {},
     "output_type": "display_data"
    },
    {
     "data": {
      "text/plain": [
       "0.539799306625262"
      ]
     },
     "metadata": {},
     "output_type": "display_data"
    },
    {
     "data": {
      "text/plain": [
       "'MaxMin in area of blueberry cover (max)'"
      ]
     },
     "metadata": {},
     "output_type": "display_data"
    },
    {
     "data": {
      "text/plain": [
       "121.28489054812677"
      ]
     },
     "metadata": {},
     "output_type": "display_data"
    },
    {
     "data": {
      "text/plain": [
       "'Deadwood'"
      ]
     },
     "metadata": {},
     "output_type": "display_data"
    },
    {
     "data": {
      "text/plain": [
       "0.0"
      ]
     },
     "metadata": {},
     "output_type": "display_data"
    },
    {
     "data": {
      "text/plain": [
       "'Co2 storage in wooden products'"
      ]
     },
     "metadata": {},
     "output_type": "display_data"
    },
    {
     "data": {
      "text/plain": [
       "0.0"
      ]
     },
     "metadata": {},
     "output_type": "display_data"
    },
    {
     "data": {
      "text/plain": [
       "'Co2 uptake in forest'"
      ]
     },
     "metadata": {},
     "output_type": "display_data"
    },
    {
     "data": {
      "text/plain": [
       "-183.52044469287682"
      ]
     },
     "metadata": {},
     "output_type": "display_data"
    },
    {
     "data": {
      "text/plain": [
       "'harvest in city forest'"
      ]
     },
     "metadata": {},
     "output_type": "display_data"
    },
    {
     "data": {
      "text/plain": [
       "23.191857866667995"
      ]
     },
     "metadata": {},
     "output_type": "display_data"
    },
    {
     "data": {
      "text/plain": [
       "'Shannon index'"
      ]
     },
     "metadata": {},
     "output_type": "display_data"
    },
    {
     "data": {
      "text/plain": [
       "875.91087433342"
      ]
     },
     "metadata": {},
     "output_type": "display_data"
    },
    {
     "data": {
      "text/plain": [
       "'verskog ha'"
      ]
     },
     "metadata": {},
     "output_type": "display_data"
    },
    {
     "data": {
      "text/plain": [
       "0.0"
      ]
     },
     "metadata": {},
     "output_type": "display_data"
    },
    {
     "name": "stdout",
     "output_type": "stream",
     "text": [
      "\r",
      " 18%|█▊        | 2/11 [00:04<00:19,  2.20s/it]"
     ]
    },
    {
     "data": {
      "text/plain": [
       "'Optimizing for GROT (KiloTons)'"
      ]
     },
     "metadata": {},
     "output_type": "display_data"
    },
    {
     "data": {
      "text/plain": [
       "'Found an optimal solution in 0 seconds'"
      ]
     },
     "metadata": {},
     "output_type": "display_data"
    },
    {
     "data": {
      "text/plain": [
       "'Objective values are:'"
      ]
     },
     "metadata": {},
     "output_type": "display_data"
    },
    {
     "data": {
      "text/plain": [
       "'netvalue (Millions nok/m2)'"
      ]
     },
     "metadata": {},
     "output_type": "display_data"
    },
    {
     "data": {
      "text/plain": [
       "2071.55196745812"
      ]
     },
     "metadata": {},
     "output_type": "display_data"
    },
    {
     "data": {
      "text/plain": [
       "'netvalue (Millions nok/m2)'"
      ]
     },
     "metadata": {},
     "output_type": "display_data"
    },
    {
     "data": {
      "text/plain": [
       "16.625162347342652"
      ]
     },
     "metadata": {},
     "output_type": "display_data"
    },
    {
     "data": {
      "text/plain": [
       "'GROT (KiloTons)'"
      ]
     },
     "metadata": {},
     "output_type": "display_data"
    },
    {
     "data": {
      "text/plain": [
       "1818.367363727284"
      ]
     },
     "metadata": {},
     "output_type": "display_data"
    },
    {
     "data": {
      "text/plain": [
       "'MIS area'"
      ]
     },
     "metadata": {},
     "output_type": "display_data"
    },
    {
     "data": {
      "text/plain": [
       "0.36555044024048067"
      ]
     },
     "metadata": {},
     "output_type": "display_data"
    },
    {
     "data": {
      "text/plain": [
       "'MaxMin in area of blueberry cover (max)'"
      ]
     },
     "metadata": {},
     "output_type": "display_data"
    },
    {
     "data": {
      "text/plain": [
       "110.42246705149905"
      ]
     },
     "metadata": {},
     "output_type": "display_data"
    },
    {
     "data": {
      "text/plain": [
       "'Deadwood'"
      ]
     },
     "metadata": {},
     "output_type": "display_data"
    },
    {
     "data": {
      "text/plain": [
       "0.0"
      ]
     },
     "metadata": {},
     "output_type": "display_data"
    },
    {
     "data": {
      "text/plain": [
       "'Co2 storage in wooden products'"
      ]
     },
     "metadata": {},
     "output_type": "display_data"
    },
    {
     "data": {
      "text/plain": [
       "0.0"
      ]
     },
     "metadata": {},
     "output_type": "display_data"
    },
    {
     "data": {
      "text/plain": [
       "'Co2 uptake in forest'"
      ]
     },
     "metadata": {},
     "output_type": "display_data"
    },
    {
     "data": {
      "text/plain": [
       "-14.813988924576089"
      ]
     },
     "metadata": {},
     "output_type": "display_data"
    },
    {
     "data": {
      "text/plain": [
       "'harvest in city forest'"
      ]
     },
     "metadata": {},
     "output_type": "display_data"
    },
    {
     "data": {
      "text/plain": [
       "17.504044711111106"
      ]
     },
     "metadata": {},
     "output_type": "display_data"
    },
    {
     "data": {
      "text/plain": [
       "'Shannon index'"
      ]
     },
     "metadata": {},
     "output_type": "display_data"
    },
    {
     "data": {
      "text/plain": [
       "694.6003867342946"
      ]
     },
     "metadata": {},
     "output_type": "display_data"
    },
    {
     "data": {
      "text/plain": [
       "'verskog ha'"
      ]
     },
     "metadata": {},
     "output_type": "display_data"
    },
    {
     "data": {
      "text/plain": [
       "0.0"
      ]
     },
     "metadata": {},
     "output_type": "display_data"
    },
    {
     "name": "stdout",
     "output_type": "stream",
     "text": [
      "\r",
      " 27%|██▋       | 3/11 [00:06<00:17,  2.18s/it]"
     ]
    },
    {
     "data": {
      "text/plain": [
       "'Optimizing for MIS area'"
      ]
     },
     "metadata": {},
     "output_type": "display_data"
    },
    {
     "data": {
      "text/plain": [
       "'Found an optimal solution in 0 seconds'"
      ]
     },
     "metadata": {},
     "output_type": "display_data"
    },
    {
     "data": {
      "text/plain": [
       "'Objective values are:'"
      ]
     },
     "metadata": {},
     "output_type": "display_data"
    },
    {
     "data": {
      "text/plain": [
       "'netvalue (Millions nok/m2)'"
      ]
     },
     "metadata": {},
     "output_type": "display_data"
    },
    {
     "data": {
      "text/plain": [
       "811.3682328124078"
      ]
     },
     "metadata": {},
     "output_type": "display_data"
    },
    {
     "data": {
      "text/plain": [
       "'netvalue (Millions nok/m2)'"
      ]
     },
     "metadata": {},
     "output_type": "display_data"
    },
    {
     "data": {
      "text/plain": [
       "6.124265131904527"
      ]
     },
     "metadata": {},
     "output_type": "display_data"
    },
    {
     "data": {
      "text/plain": [
       "'GROT (KiloTons)'"
      ]
     },
     "metadata": {},
     "output_type": "display_data"
    },
    {
     "data": {
      "text/plain": [
       "0.0"
      ]
     },
     "metadata": {},
     "output_type": "display_data"
    },
    {
     "data": {
      "text/plain": [
       "'MIS area'"
      ]
     },
     "metadata": {},
     "output_type": "display_data"
    },
    {
     "data": {
      "text/plain": [
       "0.7892717292409365"
      ]
     },
     "metadata": {},
     "output_type": "display_data"
    },
    {
     "data": {
      "text/plain": [
       "'MaxMin in area of blueberry cover (max)'"
      ]
     },
     "metadata": {},
     "output_type": "display_data"
    },
    {
     "data": {
      "text/plain": [
       "124.49595214637826"
      ]
     },
     "metadata": {},
     "output_type": "display_data"
    },
    {
     "data": {
      "text/plain": [
       "'Deadwood'"
      ]
     },
     "metadata": {},
     "output_type": "display_data"
    },
    {
     "data": {
      "text/plain": [
       "0.0"
      ]
     },
     "metadata": {},
     "output_type": "display_data"
    },
    {
     "data": {
      "text/plain": [
       "'Co2 storage in wooden products'"
      ]
     },
     "metadata": {},
     "output_type": "display_data"
    },
    {
     "data": {
      "text/plain": [
       "0.0"
      ]
     },
     "metadata": {},
     "output_type": "display_data"
    },
    {
     "data": {
      "text/plain": [
       "'Co2 uptake in forest'"
      ]
     },
     "metadata": {},
     "output_type": "display_data"
    },
    {
     "data": {
      "text/plain": [
       "0.0"
      ]
     },
     "metadata": {},
     "output_type": "display_data"
    },
    {
     "data": {
      "text/plain": [
       "'harvest in city forest'"
      ]
     },
     "metadata": {},
     "output_type": "display_data"
    },
    {
     "data": {
      "text/plain": [
       "7.550371688888812"
      ]
     },
     "metadata": {},
     "output_type": "display_data"
    },
    {
     "data": {
      "text/plain": [
       "'Shannon index'"
      ]
     },
     "metadata": {},
     "output_type": "display_data"
    },
    {
     "data": {
      "text/plain": [
       "1000.591112710675"
      ]
     },
     "metadata": {},
     "output_type": "display_data"
    },
    {
     "data": {
      "text/plain": [
       "'verskog ha'"
      ]
     },
     "metadata": {},
     "output_type": "display_data"
    },
    {
     "data": {
      "text/plain": [
       "0.0"
      ]
     },
     "metadata": {},
     "output_type": "display_data"
    },
    {
     "name": "stdout",
     "output_type": "stream",
     "text": [
      "\r",
      " 36%|███▋      | 4/11 [00:08<00:15,  2.17s/it]"
     ]
    },
    {
     "data": {
      "text/plain": [
       "'Optimizing for MaxMin in area of blueberry cover (max)'"
      ]
     },
     "metadata": {},
     "output_type": "display_data"
    },
    {
     "data": {
      "text/plain": [
       "'Found an optimal solution in 0 seconds'"
      ]
     },
     "metadata": {},
     "output_type": "display_data"
    },
    {
     "data": {
      "text/plain": [
       "'Objective values are:'"
      ]
     },
     "metadata": {},
     "output_type": "display_data"
    },
    {
     "data": {
      "text/plain": [
       "'netvalue (Millions nok/m2)'"
      ]
     },
     "metadata": {},
     "output_type": "display_data"
    },
    {
     "data": {
      "text/plain": [
       "319.65651301387976"
      ]
     },
     "metadata": {},
     "output_type": "display_data"
    },
    {
     "data": {
      "text/plain": [
       "'netvalue (Millions nok/m2)'"
      ]
     },
     "metadata": {},
     "output_type": "display_data"
    },
    {
     "data": {
      "text/plain": [
       "1.9793219243713893"
      ]
     },
     "metadata": {},
     "output_type": "display_data"
    },
    {
     "data": {
      "text/plain": [
       "'GROT (KiloTons)'"
      ]
     },
     "metadata": {},
     "output_type": "display_data"
    },
    {
     "data": {
      "text/plain": [
       "4.3552819647386283e-10"
      ]
     },
     "metadata": {},
     "output_type": "display_data"
    },
    {
     "data": {
      "text/plain": [
       "'MIS area'"
      ]
     },
     "metadata": {},
     "output_type": "display_data"
    },
    {
     "data": {
      "text/plain": [
       "0.7020616988954119"
      ]
     },
     "metadata": {},
     "output_type": "display_data"
    },
    {
     "data": {
      "text/plain": [
       "'MaxMin in area of blueberry cover (max)'"
      ]
     },
     "metadata": {},
     "output_type": "display_data"
    },
    {
     "data": {
      "text/plain": [
       "133.7988014367007"
      ]
     },
     "metadata": {},
     "output_type": "display_data"
    },
    {
     "data": {
      "text/plain": [
       "'Deadwood'"
      ]
     },
     "metadata": {},
     "output_type": "display_data"
    },
    {
     "data": {
      "text/plain": [
       "0.0"
      ]
     },
     "metadata": {},
     "output_type": "display_data"
    },
    {
     "data": {
      "text/plain": [
       "'Co2 storage in wooden products'"
      ]
     },
     "metadata": {},
     "output_type": "display_data"
    },
    {
     "data": {
      "text/plain": [
       "0.0"
      ]
     },
     "metadata": {},
     "output_type": "display_data"
    },
    {
     "data": {
      "text/plain": [
       "'Co2 uptake in forest'"
      ]
     },
     "metadata": {},
     "output_type": "display_data"
    },
    {
     "data": {
      "text/plain": [
       "0.0"
      ]
     },
     "metadata": {},
     "output_type": "display_data"
    },
    {
     "data": {
      "text/plain": [
       "'harvest in city forest'"
      ]
     },
     "metadata": {},
     "output_type": "display_data"
    },
    {
     "data": {
      "text/plain": [
       "1.0614580888845462"
      ]
     },
     "metadata": {},
     "output_type": "display_data"
    },
    {
     "data": {
      "text/plain": [
       "'Shannon index'"
      ]
     },
     "metadata": {},
     "output_type": "display_data"
    },
    {
     "data": {
      "text/plain": [
       "988.5774039920117"
      ]
     },
     "metadata": {},
     "output_type": "display_data"
    },
    {
     "data": {
      "text/plain": [
       "'verskog ha'"
      ]
     },
     "metadata": {},
     "output_type": "display_data"
    },
    {
     "data": {
      "text/plain": [
       "0.0"
      ]
     },
     "metadata": {},
     "output_type": "display_data"
    },
    {
     "name": "stdout",
     "output_type": "stream",
     "text": [
      "\r",
      " 45%|████▌     | 5/11 [00:10<00:13,  2.18s/it]"
     ]
    },
    {
     "data": {
      "text/plain": [
       "'Optimizing for Deadwood'"
      ]
     },
     "metadata": {},
     "output_type": "display_data"
    },
    {
     "data": {
      "text/plain": [
       "'Found an optimal solution in 0 seconds'"
      ]
     },
     "metadata": {},
     "output_type": "display_data"
    },
    {
     "data": {
      "text/plain": [
       "'Objective values are:'"
      ]
     },
     "metadata": {},
     "output_type": "display_data"
    },
    {
     "data": {
      "text/plain": [
       "'netvalue (Millions nok/m2)'"
      ]
     },
     "metadata": {},
     "output_type": "display_data"
    },
    {
     "data": {
      "text/plain": [
       "827.8633958517034"
      ]
     },
     "metadata": {},
     "output_type": "display_data"
    },
    {
     "data": {
      "text/plain": [
       "'netvalue (Millions nok/m2)'"
      ]
     },
     "metadata": {},
     "output_type": "display_data"
    },
    {
     "data": {
      "text/plain": [
       "7.626939012501111"
      ]
     },
     "metadata": {},
     "output_type": "display_data"
    },
    {
     "data": {
      "text/plain": [
       "'GROT (KiloTons)'"
      ]
     },
     "metadata": {},
     "output_type": "display_data"
    },
    {
     "data": {
      "text/plain": [
       "-1.6339149992292285e-11"
      ]
     },
     "metadata": {},
     "output_type": "display_data"
    },
    {
     "data": {
      "text/plain": [
       "'MIS area'"
      ]
     },
     "metadata": {},
     "output_type": "display_data"
    },
    {
     "data": {
      "text/plain": [
       "0.6132489856773128"
      ]
     },
     "metadata": {},
     "output_type": "display_data"
    },
    {
     "data": {
      "text/plain": [
       "'MaxMin in area of blueberry cover (max)'"
      ]
     },
     "metadata": {},
     "output_type": "display_data"
    },
    {
     "data": {
      "text/plain": [
       "127.73188285245631"
      ]
     },
     "metadata": {},
     "output_type": "display_data"
    },
    {
     "data": {
      "text/plain": [
       "'Deadwood'"
      ]
     },
     "metadata": {},
     "output_type": "display_data"
    },
    {
     "data": {
      "text/plain": [
       "25.30067961291509"
      ]
     },
     "metadata": {},
     "output_type": "display_data"
    },
    {
     "data": {
      "text/plain": [
       "'Co2 storage in wooden products'"
      ]
     },
     "metadata": {},
     "output_type": "display_data"
    },
    {
     "data": {
      "text/plain": [
       "0.0"
      ]
     },
     "metadata": {},
     "output_type": "display_data"
    },
    {
     "data": {
      "text/plain": [
       "'Co2 uptake in forest'"
      ]
     },
     "metadata": {},
     "output_type": "display_data"
    },
    {
     "data": {
      "text/plain": [
       "-11.613178342110428"
      ]
     },
     "metadata": {},
     "output_type": "display_data"
    },
    {
     "data": {
      "text/plain": [
       "'harvest in city forest'"
      ]
     },
     "metadata": {},
     "output_type": "display_data"
    },
    {
     "data": {
      "text/plain": [
       "6.428831066670349"
      ]
     },
     "metadata": {},
     "output_type": "display_data"
    },
    {
     "data": {
      "text/plain": [
       "'Shannon index'"
      ]
     },
     "metadata": {},
     "output_type": "display_data"
    },
    {
     "data": {
      "text/plain": [
       "926.1469399711341"
      ]
     },
     "metadata": {},
     "output_type": "display_data"
    },
    {
     "data": {
      "text/plain": [
       "'verskog ha'"
      ]
     },
     "metadata": {},
     "output_type": "display_data"
    },
    {
     "data": {
      "text/plain": [
       "0.0"
      ]
     },
     "metadata": {},
     "output_type": "display_data"
    },
    {
     "name": "stdout",
     "output_type": "stream",
     "text": [
      "\r",
      " 55%|█████▍    | 6/11 [00:13<00:11,  2.24s/it]"
     ]
    },
    {
     "data": {
      "text/plain": [
       "'Optimizing for Co2 storage in wooden products'"
      ]
     },
     "metadata": {},
     "output_type": "display_data"
    },
    {
     "data": {
      "text/plain": [
       "'Found an optimal solution in 0 seconds'"
      ]
     },
     "metadata": {},
     "output_type": "display_data"
    },
    {
     "data": {
      "text/plain": [
       "'Objective values are:'"
      ]
     },
     "metadata": {},
     "output_type": "display_data"
    },
    {
     "data": {
      "text/plain": [
       "'netvalue (Millions nok/m2)'"
      ]
     },
     "metadata": {},
     "output_type": "display_data"
    },
    {
     "data": {
      "text/plain": [
       "1347.657140690688"
      ]
     },
     "metadata": {},
     "output_type": "display_data"
    },
    {
     "data": {
      "text/plain": [
       "'netvalue (Millions nok/m2)'"
      ]
     },
     "metadata": {},
     "output_type": "display_data"
    },
    {
     "data": {
      "text/plain": [
       "16.198579799824813"
      ]
     },
     "metadata": {},
     "output_type": "display_data"
    },
    {
     "data": {
      "text/plain": [
       "'GROT (KiloTons)'"
      ]
     },
     "metadata": {},
     "output_type": "display_data"
    },
    {
     "data": {
      "text/plain": [
       "0.0"
      ]
     },
     "metadata": {},
     "output_type": "display_data"
    },
    {
     "data": {
      "text/plain": [
       "'MIS area'"
      ]
     },
     "metadata": {},
     "output_type": "display_data"
    },
    {
     "data": {
      "text/plain": [
       "0.379641662319998"
      ]
     },
     "metadata": {},
     "output_type": "display_data"
    },
    {
     "data": {
      "text/plain": [
       "'MaxMin in area of blueberry cover (max)'"
      ]
     },
     "metadata": {},
     "output_type": "display_data"
    },
    {
     "data": {
      "text/plain": [
       "108.69165428867582"
      ]
     },
     "metadata": {},
     "output_type": "display_data"
    },
    {
     "data": {
      "text/plain": [
       "'Deadwood'"
      ]
     },
     "metadata": {},
     "output_type": "display_data"
    },
    {
     "data": {
      "text/plain": [
       "0.0"
      ]
     },
     "metadata": {},
     "output_type": "display_data"
    },
    {
     "data": {
      "text/plain": [
       "'Co2 storage in wooden products'"
      ]
     },
     "metadata": {},
     "output_type": "display_data"
    },
    {
     "data": {
      "text/plain": [
       "48935.40767662774"
      ]
     },
     "metadata": {},
     "output_type": "display_data"
    },
    {
     "data": {
      "text/plain": [
       "'Co2 uptake in forest'"
      ]
     },
     "metadata": {},
     "output_type": "display_data"
    },
    {
     "data": {
      "text/plain": [
       "-66.24460364968333"
      ]
     },
     "metadata": {},
     "output_type": "display_data"
    },
    {
     "data": {
      "text/plain": [
       "'harvest in city forest'"
      ]
     },
     "metadata": {},
     "output_type": "display_data"
    },
    {
     "data": {
      "text/plain": [
       "19.22641066670999"
      ]
     },
     "metadata": {},
     "output_type": "display_data"
    },
    {
     "data": {
      "text/plain": [
       "'Shannon index'"
      ]
     },
     "metadata": {},
     "output_type": "display_data"
    },
    {
     "data": {
      "text/plain": [
       "769.5593849341057"
      ]
     },
     "metadata": {},
     "output_type": "display_data"
    },
    {
     "data": {
      "text/plain": [
       "'verskog ha'"
      ]
     },
     "metadata": {},
     "output_type": "display_data"
    },
    {
     "data": {
      "text/plain": [
       "0.0"
      ]
     },
     "metadata": {},
     "output_type": "display_data"
    },
    {
     "name": "stdout",
     "output_type": "stream",
     "text": [
      "\r",
      " 64%|██████▎   | 7/11 [00:15<00:09,  2.27s/it]"
     ]
    },
    {
     "data": {
      "text/plain": [
       "'Optimizing for Co2 uptake in forest'"
      ]
     },
     "metadata": {},
     "output_type": "display_data"
    },
    {
     "data": {
      "text/plain": [
       "'Found an optimal solution in 1 seconds'"
      ]
     },
     "metadata": {},
     "output_type": "display_data"
    },
    {
     "data": {
      "text/plain": [
       "'Objective values are:'"
      ]
     },
     "metadata": {},
     "output_type": "display_data"
    },
    {
     "data": {
      "text/plain": [
       "'netvalue (Millions nok/m2)'"
      ]
     },
     "metadata": {},
     "output_type": "display_data"
    },
    {
     "data": {
      "text/plain": [
       "286.02535927991016"
      ]
     },
     "metadata": {},
     "output_type": "display_data"
    },
    {
     "data": {
      "text/plain": [
       "'netvalue (Millions nok/m2)'"
      ]
     },
     "metadata": {},
     "output_type": "display_data"
    },
    {
     "data": {
      "text/plain": [
       "2.3000419751193566"
      ]
     },
     "metadata": {},
     "output_type": "display_data"
    },
    {
     "data": {
      "text/plain": [
       "'GROT (KiloTons)'"
      ]
     },
     "metadata": {},
     "output_type": "display_data"
    },
    {
     "data": {
      "text/plain": [
       "0.0"
      ]
     },
     "metadata": {},
     "output_type": "display_data"
    },
    {
     "data": {
      "text/plain": [
       "'MIS area'"
      ]
     },
     "metadata": {},
     "output_type": "display_data"
    },
    {
     "data": {
      "text/plain": [
       "0.6692904607645227"
      ]
     },
     "metadata": {},
     "output_type": "display_data"
    },
    {
     "data": {
      "text/plain": [
       "'MaxMin in area of blueberry cover (max)'"
      ]
     },
     "metadata": {},
     "output_type": "display_data"
    },
    {
     "data": {
      "text/plain": [
       "128.5246575990827"
      ]
     },
     "metadata": {},
     "output_type": "display_data"
    },
    {
     "data": {
      "text/plain": [
       "'Deadwood'"
      ]
     },
     "metadata": {},
     "output_type": "display_data"
    },
    {
     "data": {
      "text/plain": [
       "0.0"
      ]
     },
     "metadata": {},
     "output_type": "display_data"
    },
    {
     "data": {
      "text/plain": [
       "'Co2 storage in wooden products'"
      ]
     },
     "metadata": {},
     "output_type": "display_data"
    },
    {
     "data": {
      "text/plain": [
       "0.0"
      ]
     },
     "metadata": {},
     "output_type": "display_data"
    },
    {
     "data": {
      "text/plain": [
       "'Co2 uptake in forest'"
      ]
     },
     "metadata": {},
     "output_type": "display_data"
    },
    {
     "data": {
      "text/plain": [
       "35.019587215041994"
      ]
     },
     "metadata": {},
     "output_type": "display_data"
    },
    {
     "data": {
      "text/plain": [
       "'harvest in city forest'"
      ]
     },
     "metadata": {},
     "output_type": "display_data"
    },
    {
     "data": {
      "text/plain": [
       "3.2071043868471816"
      ]
     },
     "metadata": {},
     "output_type": "display_data"
    },
    {
     "data": {
      "text/plain": [
       "'Shannon index'"
      ]
     },
     "metadata": {},
     "output_type": "display_data"
    },
    {
     "data": {
      "text/plain": [
       "1017.5997477135495"
      ]
     },
     "metadata": {},
     "output_type": "display_data"
    },
    {
     "data": {
      "text/plain": [
       "'verskog ha'"
      ]
     },
     "metadata": {},
     "output_type": "display_data"
    },
    {
     "data": {
      "text/plain": [
       "0.0"
      ]
     },
     "metadata": {},
     "output_type": "display_data"
    },
    {
     "name": "stdout",
     "output_type": "stream",
     "text": [
      "\r",
      " 73%|███████▎  | 8/11 [00:18<00:07,  2.37s/it]"
     ]
    },
    {
     "data": {
      "text/plain": [
       "'Optimizing for harvest in city forest'"
      ]
     },
     "metadata": {},
     "output_type": "display_data"
    },
    {
     "data": {
      "text/plain": [
       "'Found an optimal solution in 0 seconds'"
      ]
     },
     "metadata": {},
     "output_type": "display_data"
    },
    {
     "data": {
      "text/plain": [
       "'Objective values are:'"
      ]
     },
     "metadata": {},
     "output_type": "display_data"
    },
    {
     "data": {
      "text/plain": [
       "'netvalue (Millions nok/m2)'"
      ]
     },
     "metadata": {},
     "output_type": "display_data"
    },
    {
     "data": {
      "text/plain": [
       "1528.118464716663"
      ]
     },
     "metadata": {},
     "output_type": "display_data"
    },
    {
     "data": {
      "text/plain": [
       "'netvalue (Millions nok/m2)'"
      ]
     },
     "metadata": {},
     "output_type": "display_data"
    },
    {
     "data": {
      "text/plain": [
       "14.585489629996564"
      ]
     },
     "metadata": {},
     "output_type": "display_data"
    },
    {
     "data": {
      "text/plain": [
       "'GROT (KiloTons)'"
      ]
     },
     "metadata": {},
     "output_type": "display_data"
    },
    {
     "data": {
      "text/plain": [
       "0.0"
      ]
     },
     "metadata": {},
     "output_type": "display_data"
    },
    {
     "data": {
      "text/plain": [
       "'MIS area'"
      ]
     },
     "metadata": {},
     "output_type": "display_data"
    },
    {
     "data": {
      "text/plain": [
       "0.3597186688211526"
      ]
     },
     "metadata": {},
     "output_type": "display_data"
    },
    {
     "data": {
      "text/plain": [
       "'MaxMin in area of blueberry cover (max)'"
      ]
     },
     "metadata": {},
     "output_type": "display_data"
    },
    {
     "data": {
      "text/plain": [
       "110.09910551974677"
      ]
     },
     "metadata": {},
     "output_type": "display_data"
    },
    {
     "data": {
      "text/plain": [
       "'Deadwood'"
      ]
     },
     "metadata": {},
     "output_type": "display_data"
    },
    {
     "data": {
      "text/plain": [
       "0.0"
      ]
     },
     "metadata": {},
     "output_type": "display_data"
    },
    {
     "data": {
      "text/plain": [
       "'Co2 storage in wooden products'"
      ]
     },
     "metadata": {},
     "output_type": "display_data"
    },
    {
     "data": {
      "text/plain": [
       "0.0"
      ]
     },
     "metadata": {},
     "output_type": "display_data"
    },
    {
     "data": {
      "text/plain": [
       "'Co2 uptake in forest'"
      ]
     },
     "metadata": {},
     "output_type": "display_data"
    },
    {
     "data": {
      "text/plain": [
       "-16.511794934350743"
      ]
     },
     "metadata": {},
     "output_type": "display_data"
    },
    {
     "data": {
      "text/plain": [
       "'harvest in city forest'"
      ]
     },
     "metadata": {},
     "output_type": "display_data"
    },
    {
     "data": {
      "text/plain": [
       "23.7926832"
      ]
     },
     "metadata": {},
     "output_type": "display_data"
    },
    {
     "data": {
      "text/plain": [
       "'Shannon index'"
      ]
     },
     "metadata": {},
     "output_type": "display_data"
    },
    {
     "data": {
      "text/plain": [
       "678.988123171016"
      ]
     },
     "metadata": {},
     "output_type": "display_data"
    },
    {
     "data": {
      "text/plain": [
       "'verskog ha'"
      ]
     },
     "metadata": {},
     "output_type": "display_data"
    },
    {
     "data": {
      "text/plain": [
       "0.0"
      ]
     },
     "metadata": {},
     "output_type": "display_data"
    },
    {
     "name": "stdout",
     "output_type": "stream",
     "text": [
      "\r",
      " 82%|████████▏ | 9/11 [00:20<00:04,  2.29s/it]"
     ]
    },
    {
     "data": {
      "text/plain": [
       "'Optimizing for Shannon index'"
      ]
     },
     "metadata": {},
     "output_type": "display_data"
    },
    {
     "data": {
      "text/plain": [
       "'Found an optimal solution in 0 seconds'"
      ]
     },
     "metadata": {},
     "output_type": "display_data"
    },
    {
     "data": {
      "text/plain": [
       "'Objective values are:'"
      ]
     },
     "metadata": {},
     "output_type": "display_data"
    },
    {
     "data": {
      "text/plain": [
       "'netvalue (Millions nok/m2)'"
      ]
     },
     "metadata": {},
     "output_type": "display_data"
    },
    {
     "data": {
      "text/plain": [
       "747.3742777510344"
      ]
     },
     "metadata": {},
     "output_type": "display_data"
    },
    {
     "data": {
      "text/plain": [
       "'netvalue (Millions nok/m2)'"
      ]
     },
     "metadata": {},
     "output_type": "display_data"
    },
    {
     "data": {
      "text/plain": [
       "6.4130813508172455"
      ]
     },
     "metadata": {},
     "output_type": "display_data"
    },
    {
     "data": {
      "text/plain": [
       "'GROT (KiloTons)'"
      ]
     },
     "metadata": {},
     "output_type": "display_data"
    },
    {
     "data": {
      "text/plain": [
       "0.0"
      ]
     },
     "metadata": {},
     "output_type": "display_data"
    },
    {
     "data": {
      "text/plain": [
       "'MIS area'"
      ]
     },
     "metadata": {},
     "output_type": "display_data"
    },
    {
     "data": {
      "text/plain": [
       "0.543127248826047"
      ]
     },
     "metadata": {},
     "output_type": "display_data"
    },
    {
     "data": {
      "text/plain": [
       "'MaxMin in area of blueberry cover (max)'"
      ]
     },
     "metadata": {},
     "output_type": "display_data"
    },
    {
     "data": {
      "text/plain": [
       "121.15509854593446"
      ]
     },
     "metadata": {},
     "output_type": "display_data"
    },
    {
     "data": {
      "text/plain": [
       "'Deadwood'"
      ]
     },
     "metadata": {},
     "output_type": "display_data"
    },
    {
     "data": {
      "text/plain": [
       "0.0"
      ]
     },
     "metadata": {},
     "output_type": "display_data"
    },
    {
     "data": {
      "text/plain": [
       "'Co2 storage in wooden products'"
      ]
     },
     "metadata": {},
     "output_type": "display_data"
    },
    {
     "data": {
      "text/plain": [
       "0.0"
      ]
     },
     "metadata": {},
     "output_type": "display_data"
    },
    {
     "data": {
      "text/plain": [
       "'Co2 uptake in forest'"
      ]
     },
     "metadata": {},
     "output_type": "display_data"
    },
    {
     "data": {
      "text/plain": [
       "0.0"
      ]
     },
     "metadata": {},
     "output_type": "display_data"
    },
    {
     "data": {
      "text/plain": [
       "'harvest in city forest'"
      ]
     },
     "metadata": {},
     "output_type": "display_data"
    },
    {
     "data": {
      "text/plain": [
       "6.16847342222416"
      ]
     },
     "metadata": {},
     "output_type": "display_data"
    },
    {
     "data": {
      "text/plain": [
       "'Shannon index'"
      ]
     },
     "metadata": {},
     "output_type": "display_data"
    },
    {
     "data": {
      "text/plain": [
       "1230.023132514068"
      ]
     },
     "metadata": {},
     "output_type": "display_data"
    },
    {
     "data": {
      "text/plain": [
       "'verskog ha'"
      ]
     },
     "metadata": {},
     "output_type": "display_data"
    },
    {
     "data": {
      "text/plain": [
       "0.0"
      ]
     },
     "metadata": {},
     "output_type": "display_data"
    },
    {
     "name": "stdout",
     "output_type": "stream",
     "text": [
      "\r",
      " 91%|█████████ | 10/11 [00:22<00:02,  2.26s/it]"
     ]
    },
    {
     "data": {
      "text/plain": [
       "'Optimizing for verskog ha'"
      ]
     },
     "metadata": {},
     "output_type": "display_data"
    },
    {
     "data": {
      "text/plain": [
       "'Found an optimal solution in 0 seconds'"
      ]
     },
     "metadata": {},
     "output_type": "display_data"
    },
    {
     "data": {
      "text/plain": [
       "'Objective values are:'"
      ]
     },
     "metadata": {},
     "output_type": "display_data"
    },
    {
     "data": {
      "text/plain": [
       "'netvalue (Millions nok/m2)'"
      ]
     },
     "metadata": {},
     "output_type": "display_data"
    },
    {
     "data": {
      "text/plain": [
       "1245.1422679264942"
      ]
     },
     "metadata": {},
     "output_type": "display_data"
    },
    {
     "data": {
      "text/plain": [
       "'netvalue (Millions nok/m2)'"
      ]
     },
     "metadata": {},
     "output_type": "display_data"
    },
    {
     "data": {
      "text/plain": [
       "12.664434892678889"
      ]
     },
     "metadata": {},
     "output_type": "display_data"
    },
    {
     "data": {
      "text/plain": [
       "'GROT (KiloTons)'"
      ]
     },
     "metadata": {},
     "output_type": "display_data"
    },
    {
     "data": {
      "text/plain": [
       "0.0"
      ]
     },
     "metadata": {},
     "output_type": "display_data"
    },
    {
     "data": {
      "text/plain": [
       "'MIS area'"
      ]
     },
     "metadata": {},
     "output_type": "display_data"
    },
    {
     "data": {
      "text/plain": [
       "0.37301938520704936"
      ]
     },
     "metadata": {},
     "output_type": "display_data"
    },
    {
     "data": {
      "text/plain": [
       "'MaxMin in area of blueberry cover (max)'"
      ]
     },
     "metadata": {},
     "output_type": "display_data"
    },
    {
     "data": {
      "text/plain": [
       "111.29487042658525"
      ]
     },
     "metadata": {},
     "output_type": "display_data"
    },
    {
     "data": {
      "text/plain": [
       "'Deadwood'"
      ]
     },
     "metadata": {},
     "output_type": "display_data"
    },
    {
     "data": {
      "text/plain": [
       "0.0"
      ]
     },
     "metadata": {},
     "output_type": "display_data"
    },
    {
     "data": {
      "text/plain": [
       "'Co2 storage in wooden products'"
      ]
     },
     "metadata": {},
     "output_type": "display_data"
    },
    {
     "data": {
      "text/plain": [
       "0.0"
      ]
     },
     "metadata": {},
     "output_type": "display_data"
    },
    {
     "data": {
      "text/plain": [
       "'Co2 uptake in forest'"
      ]
     },
     "metadata": {},
     "output_type": "display_data"
    },
    {
     "data": {
      "text/plain": [
       "-18.21882367105482"
      ]
     },
     "metadata": {},
     "output_type": "display_data"
    },
    {
     "data": {
      "text/plain": [
       "'harvest in city forest'"
      ]
     },
     "metadata": {},
     "output_type": "display_data"
    },
    {
     "data": {
      "text/plain": [
       "13.258212355555555"
      ]
     },
     "metadata": {},
     "output_type": "display_data"
    },
    {
     "data": {
      "text/plain": [
       "'Shannon index'"
      ]
     },
     "metadata": {},
     "output_type": "display_data"
    },
    {
     "data": {
      "text/plain": [
       "699.4607266391079"
      ]
     },
     "metadata": {},
     "output_type": "display_data"
    },
    {
     "data": {
      "text/plain": [
       "'verskog ha'"
      ]
     },
     "metadata": {},
     "output_type": "display_data"
    },
    {
     "data": {
      "text/plain": [
       "650.809522000001"
      ]
     },
     "metadata": {},
     "output_type": "display_data"
    },
    {
     "name": "stdout",
     "output_type": "stream",
     "text": [
      "100%|██████████| 11/11 [00:24<00:00,  2.25s/it]\n",
      "CPU times: user 12.5 s, sys: 2.37 s, total: 14.8 s\n",
      "Wall time: 24.7 s\n"
     ]
    }
   ],
   "source": [
    "%%time\n",
    "mfo.calculateObjectiveRanges(debug=True)"
   ]
  },
  {
   "cell_type": "code",
   "execution_count": 27,
   "metadata": {},
   "outputs": [
    {
     "data": {
      "text/plain": [
       "{'harvest_netvalue_Mnok_min': (286.02535927991016, 4278.090263973933),\n",
       " 'Sum_harvested_V': (1.9793219243713893, 26.472194682247512),\n",
       " 'SUM_GROT_u150': (-1.6339149992292285e-11, 1818.367363727284),\n",
       " 'SUM_MIS': (0.3597186688211526, 0.7892717292409365),\n",
       " 'blueberryMaxMin': (108.69165428867582, 133.7988014367007),\n",
       " 'SUM_deadwood': (0.0, 25.30067961291509),\n",
       " 'Sum_CO2_HWP_kt': (0.0, 48935.40767662774),\n",
       " 'Sum_CO2_in_forest': (-183.52044469287682, 35.019587215041994),\n",
       " 'harvest_in_cityForest': (1.0614580888845462, 23.7926832),\n",
       " 'SUM_Shannon': (678.988123171016, 1230.023132514068),\n",
       " 'harvested_in_vernskog_or_steep': (0.0, 650.809522000001)}"
      ]
     },
     "execution_count": 27,
     "metadata": {},
     "output_type": "execute_result"
    }
   ],
   "source": [
    "mfo.objectiveRanges"
   ]
  },
  {
   "cell_type": "markdown",
   "metadata": {},
   "source": [
    "## Define the ecosytem service categories"
   ]
  },
  {
   "cell_type": "code",
   "execution_count": 28,
   "metadata": {},
   "outputs": [],
   "source": [
    "ESS = {'wood_production':Wood_production,\n",
    "       'bioenergy':Bioenergy,\n",
    "       'biodiversity':Biodiversity,\n",
    "       'climate_regulation':Climate_regulation,\n",
    "       'recreation':Recreation,\n",
    "       'water':Erosion_and_water\n",
    "      }"
   ]
  },
  {
   "cell_type": "markdown",
   "metadata": {},
   "source": [
    "## Define how solutions by ESS are going to be aggregated"
   ]
  },
  {
   "cell_type": "code",
   "execution_count": 29,
   "metadata": {},
   "outputs": [],
   "source": [
    "AGG = {'wood_production':\"AVG\",\n",
    "       'bioenergy':\"AVG\",\n",
    "       'biodiversity':\"MIN\",\n",
    "       'climate_regulation':\"AVG\",\n",
    "       'recreation':\"MIN\",\n",
    "       'water':\"AVG\"}"
   ]
  },
  {
   "cell_type": "markdown",
   "metadata": {},
   "source": [
    "## Ideal and anti-ideal value obtainable for each ESS category"
   ]
  },
  {
   "cell_type": "code",
   "execution_count": 30,
   "metadata": {},
   "outputs": [
    {
     "data": {
      "text/plain": [
       "'Calculating objective ranges'"
      ]
     },
     "metadata": {},
     "output_type": "display_data"
    },
    {
     "name": "stdout",
     "output_type": "stream",
     "text": [
      "  0%|          | 0/6 [00:00<?, ?it/s]wood_production\n"
     ]
    },
    {
     "data": {
      "text/plain": [
       "<ortools.linear_solver.linear_solver_natural_api.SumArray at 0x7fe3c6081a30>"
      ]
     },
     "metadata": {},
     "output_type": "display_data"
    },
    {
     "data": {
      "text/plain": [
       "'Found an optimal solution in 0 seconds'"
      ]
     },
     "metadata": {},
     "output_type": "display_data"
    },
    {
     "data": {
      "text/plain": [
       "'Objective values are:'"
      ]
     },
     "metadata": {},
     "output_type": "display_data"
    },
    {
     "data": {
      "text/plain": [
       "MFwood_production"
      ]
     },
     "metadata": {},
     "output_type": "display_data"
    },
    {
     "data": {
      "text/plain": [
       "0.931541896813408"
      ]
     },
     "metadata": {},
     "output_type": "display_data"
    },
    {
     "data": {
      "text/plain": [
       "MFbioenergy"
      ]
     },
     "metadata": {},
     "output_type": "display_data"
    },
    {
     "data": {
      "text/plain": [
       "8.985615513248209e-15"
      ]
     },
     "metadata": {},
     "output_type": "display_data"
    },
    {
     "data": {
      "text/plain": [
       "MFbiodiversity"
      ]
     },
     "metadata": {},
     "output_type": "display_data"
    },
    {
     "data": {
      "text/plain": [
       "0.0"
      ]
     },
     "metadata": {},
     "output_type": "display_data"
    },
    {
     "data": {
      "text/plain": [
       "MFclimate_regulation"
      ]
     },
     "metadata": {},
     "output_type": "display_data"
    },
    {
     "data": {
      "text/plain": [
       "0.07782854418021468"
      ]
     },
     "metadata": {},
     "output_type": "display_data"
    },
    {
     "data": {
      "text/plain": [
       "MFrecreation"
      ]
     },
     "metadata": {},
     "output_type": "display_data"
    },
    {
     "data": {
      "text/plain": [
       "0.0"
      ]
     },
     "metadata": {},
     "output_type": "display_data"
    },
    {
     "data": {
      "text/plain": [
       "MFwater"
      ]
     },
     "metadata": {},
     "output_type": "display_data"
    },
    {
     "data": {
      "text/plain": [
       "0.9999999999999987"
      ]
     },
     "metadata": {},
     "output_type": "display_data"
    },
    {
     "name": "stdout",
     "output_type": "stream",
     "text": [
      " 17%|█▋        | 1/6 [00:02<00:11,  2.26s/it]bioenergy\n"
     ]
    },
    {
     "data": {
      "text/plain": [
       "<ortools.linear_solver.linear_solver_natural_api.SumArray at 0x7fe3c60812b0>"
      ]
     },
     "metadata": {},
     "output_type": "display_data"
    },
    {
     "data": {
      "text/plain": [
       "'Found an optimal solution in 0 seconds'"
      ]
     },
     "metadata": {},
     "output_type": "display_data"
    },
    {
     "data": {
      "text/plain": [
       "'Objective values are:'"
      ]
     },
     "metadata": {},
     "output_type": "display_data"
    },
    {
     "data": {
      "text/plain": [
       "MFwood_production"
      ]
     },
     "metadata": {},
     "output_type": "display_data"
    },
    {
     "data": {
      "text/plain": [
       "0.5264064947638318"
      ]
     },
     "metadata": {},
     "output_type": "display_data"
    },
    {
     "data": {
      "text/plain": [
       "MFbioenergy"
      ]
     },
     "metadata": {},
     "output_type": "display_data"
    },
    {
     "data": {
      "text/plain": [
       "0.9999999999999999"
      ]
     },
     "metadata": {},
     "output_type": "display_data"
    },
    {
     "data": {
      "text/plain": [
       "MFbiodiversity"
      ]
     },
     "metadata": {},
     "output_type": "display_data"
    },
    {
     "data": {
      "text/plain": [
       "0.0"
      ]
     },
     "metadata": {},
     "output_type": "display_data"
    },
    {
     "data": {
      "text/plain": [
       "MFclimate_regulation"
      ]
     },
     "metadata": {},
     "output_type": "display_data"
    },
    {
     "data": {
      "text/plain": [
       "0.3843191676812437"
      ]
     },
     "metadata": {},
     "output_type": "display_data"
    },
    {
     "data": {
      "text/plain": [
       "MFrecreation"
      ]
     },
     "metadata": {},
     "output_type": "display_data"
    },
    {
     "data": {
      "text/plain": [
       "-0.03769394127927739"
      ]
     },
     "metadata": {},
     "output_type": "display_data"
    },
    {
     "data": {
      "text/plain": [
       "MFwater"
      ]
     },
     "metadata": {},
     "output_type": "display_data"
    },
    {
     "data": {
      "text/plain": [
       "0.9999999999999999"
      ]
     },
     "metadata": {},
     "output_type": "display_data"
    },
    {
     "name": "stdout",
     "output_type": "stream",
     "text": [
      " 33%|███▎      | 2/6 [00:04<00:08,  2.19s/it]biodiversity\n"
     ]
    },
    {
     "data": {
      "text/plain": [
       "<ortools.linear_solver.linear_solver_natural_api.SumArray at 0x7fe3c60810a0>"
      ]
     },
     "metadata": {},
     "output_type": "display_data"
    },
    {
     "data": {
      "text/plain": [
       "'Found an optimal solution in 1 seconds'"
      ]
     },
     "metadata": {},
     "output_type": "display_data"
    },
    {
     "data": {
      "text/plain": [
       "'Objective values are:'"
      ]
     },
     "metadata": {},
     "output_type": "display_data"
    },
    {
     "data": {
      "text/plain": [
       "MFwood_production"
      ]
     },
     "metadata": {},
     "output_type": "display_data"
    },
    {
     "data": {
      "text/plain": [
       "0.03195093596596888"
      ]
     },
     "metadata": {},
     "output_type": "display_data"
    },
    {
     "data": {
      "text/plain": [
       "MFbioenergy"
      ]
     },
     "metadata": {},
     "output_type": "display_data"
    },
    {
     "data": {
      "text/plain": [
       "8.985615513248209e-15"
      ]
     },
     "metadata": {},
     "output_type": "display_data"
    },
    {
     "data": {
      "text/plain": [
       "MFbiodiversity"
      ]
     },
     "metadata": {},
     "output_type": "display_data"
    },
    {
     "data": {
      "text/plain": [
       "0.96484777048539"
      ]
     },
     "metadata": {},
     "output_type": "display_data"
    },
    {
     "data": {
      "text/plain": [
       "MFclimate_regulation"
      ]
     },
     "metadata": {},
     "output_type": "display_data"
    },
    {
     "data": {
      "text/plain": [
       "0.41987832410082787"
      ]
     },
     "metadata": {},
     "output_type": "display_data"
    },
    {
     "data": {
      "text/plain": [
       "MFrecreation"
      ]
     },
     "metadata": {},
     "output_type": "display_data"
    },
    {
     "data": {
      "text/plain": [
       "0.0"
      ]
     },
     "metadata": {},
     "output_type": "display_data"
    },
    {
     "data": {
      "text/plain": [
       "MFwater"
      ]
     },
     "metadata": {},
     "output_type": "display_data"
    },
    {
     "data": {
      "text/plain": [
       "0.9999999999999984"
      ]
     },
     "metadata": {},
     "output_type": "display_data"
    },
    {
     "name": "stdout",
     "output_type": "stream",
     "text": [
      " 50%|█████     | 3/6 [00:07<00:07,  2.41s/it]climate_regulation\n"
     ]
    },
    {
     "data": {
      "text/plain": [
       "<ortools.linear_solver.linear_solver_natural_api.SumArray at 0x7fe3c6081e80>"
      ]
     },
     "metadata": {},
     "output_type": "display_data"
    },
    {
     "data": {
      "text/plain": [
       "'Found an optimal solution in 1 seconds'"
      ]
     },
     "metadata": {},
     "output_type": "display_data"
    },
    {
     "data": {
      "text/plain": [
       "'Objective values are:'"
      ]
     },
     "metadata": {},
     "output_type": "display_data"
    },
    {
     "data": {
      "text/plain": [
       "MFwood_production"
      ]
     },
     "metadata": {},
     "output_type": "display_data"
    },
    {
     "data": {
      "text/plain": [
       "0.3070276195857618"
      ]
     },
     "metadata": {},
     "output_type": "display_data"
    },
    {
     "data": {
      "text/plain": [
       "MFbioenergy"
      ]
     },
     "metadata": {},
     "output_type": "display_data"
    },
    {
     "data": {
      "text/plain": [
       "8.985615513248209e-15"
      ]
     },
     "metadata": {},
     "output_type": "display_data"
    },
    {
     "data": {
      "text/plain": [
       "MFbiodiversity"
      ]
     },
     "metadata": {},
     "output_type": "display_data"
    },
    {
     "data": {
      "text/plain": [
       "0.0"
      ]
     },
     "metadata": {},
     "output_type": "display_data"
    },
    {
     "data": {
      "text/plain": [
       "MFclimate_regulation"
      ]
     },
     "metadata": {},
     "output_type": "display_data"
    },
    {
     "data": {
      "text/plain": [
       "0.9140413066047245"
      ]
     },
     "metadata": {},
     "output_type": "display_data"
    },
    {
     "data": {
      "text/plain": [
       "MFrecreation"
      ]
     },
     "metadata": {},
     "output_type": "display_data"
    },
    {
     "data": {
      "text/plain": [
       "0.0"
      ]
     },
     "metadata": {},
     "output_type": "display_data"
    },
    {
     "data": {
      "text/plain": [
       "MFwater"
      ]
     },
     "metadata": {},
     "output_type": "display_data"
    },
    {
     "data": {
      "text/plain": [
       "0.999999999999999"
      ]
     },
     "metadata": {},
     "output_type": "display_data"
    },
    {
     "name": "stdout",
     "output_type": "stream",
     "text": [
      " 67%|██████▋   | 4/6 [00:09<00:05,  2.54s/it]recreation\n"
     ]
    },
    {
     "data": {
      "text/plain": [
       "<ortools.linear_solver.linear_solver_natural_api.SumArray at 0x7fe3c6081610>"
      ]
     },
     "metadata": {},
     "output_type": "display_data"
    },
    {
     "data": {
      "text/plain": [
       "'Found an optimal solution in 0 seconds'"
      ]
     },
     "metadata": {},
     "output_type": "display_data"
    },
    {
     "data": {
      "text/plain": [
       "'Objective values are:'"
      ]
     },
     "metadata": {},
     "output_type": "display_data"
    },
    {
     "data": {
      "text/plain": [
       "MFwood_production"
      ]
     },
     "metadata": {},
     "output_type": "display_data"
    },
    {
     "data": {
      "text/plain": [
       "0.2699231823597867"
      ]
     },
     "metadata": {},
     "output_type": "display_data"
    },
    {
     "data": {
      "text/plain": [
       "MFbioenergy"
      ]
     },
     "metadata": {},
     "output_type": "display_data"
    },
    {
     "data": {
      "text/plain": [
       "8.98561551324821e-15"
      ]
     },
     "metadata": {},
     "output_type": "display_data"
    },
    {
     "data": {
      "text/plain": [
       "MFbiodiversity"
      ]
     },
     "metadata": {},
     "output_type": "display_data"
    },
    {
     "data": {
      "text/plain": [
       "0.0"
      ]
     },
     "metadata": {},
     "output_type": "display_data"
    },
    {
     "data": {
      "text/plain": [
       "MFclimate_regulation"
      ]
     },
     "metadata": {},
     "output_type": "display_data"
    },
    {
     "data": {
      "text/plain": [
       "0.3977219340581858"
      ]
     },
     "metadata": {},
     "output_type": "display_data"
    },
    {
     "data": {
      "text/plain": [
       "MFrecreation"
      ]
     },
     "metadata": {},
     "output_type": "display_data"
    },
    {
     "data": {
      "text/plain": [
       "0.9138674060465242"
      ]
     },
     "metadata": {},
     "output_type": "display_data"
    },
    {
     "data": {
      "text/plain": [
       "MFwater"
      ]
     },
     "metadata": {},
     "output_type": "display_data"
    },
    {
     "data": {
      "text/plain": [
       "0.9999999999999999"
      ]
     },
     "metadata": {},
     "output_type": "display_data"
    },
    {
     "name": "stdout",
     "output_type": "stream",
     "text": [
      " 83%|████████▎ | 5/6 [00:12<00:02,  2.43s/it]water\n"
     ]
    },
    {
     "data": {
      "text/plain": [
       "<ortools.linear_solver.linear_solver_natural_api.SumArray at 0x7fe3c6081640>"
      ]
     },
     "metadata": {},
     "output_type": "display_data"
    },
    {
     "data": {
      "text/plain": [
       "'Found an optimal solution in 0 seconds'"
      ]
     },
     "metadata": {},
     "output_type": "display_data"
    },
    {
     "data": {
      "text/plain": [
       "'Objective values are:'"
      ]
     },
     "metadata": {},
     "output_type": "display_data"
    },
    {
     "data": {
      "text/plain": [
       "MFwood_production"
      ]
     },
     "metadata": {},
     "output_type": "display_data"
    },
    {
     "data": {
      "text/plain": [
       "0.34941146394210254"
      ]
     },
     "metadata": {},
     "output_type": "display_data"
    },
    {
     "data": {
      "text/plain": [
       "MFbioenergy"
      ]
     },
     "metadata": {},
     "output_type": "display_data"
    },
    {
     "data": {
      "text/plain": [
       "8.98561551324821e-15"
      ]
     },
     "metadata": {},
     "output_type": "display_data"
    },
    {
     "data": {
      "text/plain": [
       "MFbiodiversity"
      ]
     },
     "metadata": {},
     "output_type": "display_data"
    },
    {
     "data": {
      "text/plain": [
       "0.0"
      ]
     },
     "metadata": {},
     "output_type": "display_data"
    },
    {
     "data": {
      "text/plain": [
       "MFclimate_regulation"
      ]
     },
     "metadata": {},
     "output_type": "display_data"
    },
    {
     "data": {
      "text/plain": [
       "0.3834139986714603"
      ]
     },
     "metadata": {},
     "output_type": "display_data"
    },
    {
     "data": {
      "text/plain": [
       "MFrecreation"
      ]
     },
     "metadata": {},
     "output_type": "display_data"
    },
    {
     "data": {
      "text/plain": [
       "0.0"
      ]
     },
     "metadata": {},
     "output_type": "display_data"
    },
    {
     "data": {
      "text/plain": [
       "MFwater"
      ]
     },
     "metadata": {},
     "output_type": "display_data"
    },
    {
     "data": {
      "text/plain": [
       "0.9999999999999999"
      ]
     },
     "metadata": {},
     "output_type": "display_data"
    },
    {
     "name": "stdout",
     "output_type": "stream",
     "text": [
      "100%|██████████| 6/6 [00:14<00:00,  2.37s/it]\n"
     ]
    }
   ],
   "source": [
    "mfo.addEyvindsonMultifunctionality(ESS,AGG)"
   ]
  },
  {
   "cell_type": "markdown",
   "metadata": {},
   "source": [
    "## Maximum multifunctionality"
   ]
  },
  {
   "cell_type": "code",
   "execution_count": 31,
   "metadata": {},
   "outputs": [
    {
     "data": {
      "text/plain": [
       "'Found an optimal solution in 1 seconds'"
      ]
     },
     "metadata": {},
     "output_type": "display_data"
    },
    {
     "data": {
      "text/plain": [
       "'Objective values are:'"
      ]
     },
     "metadata": {},
     "output_type": "display_data"
    },
    {
     "data": {
      "text/plain": [
       "MFwood_production"
      ]
     },
     "metadata": {},
     "output_type": "display_data"
    },
    {
     "data": {
      "text/plain": [
       "0.64227522418893"
      ]
     },
     "metadata": {},
     "output_type": "display_data"
    },
    {
     "data": {
      "text/plain": [
       "MFbioenergy"
      ]
     },
     "metadata": {},
     "output_type": "display_data"
    },
    {
     "data": {
      "text/plain": [
       "0.9341925212717171"
      ]
     },
     "metadata": {},
     "output_type": "display_data"
    },
    {
     "data": {
      "text/plain": [
       "MFbiodiversity"
      ]
     },
     "metadata": {},
     "output_type": "display_data"
    },
    {
     "data": {
      "text/plain": [
       "0.6251579917445371"
      ]
     },
     "metadata": {},
     "output_type": "display_data"
    },
    {
     "data": {
      "text/plain": [
       "MFclimate_regulation"
      ]
     },
     "metadata": {},
     "output_type": "display_data"
    },
    {
     "data": {
      "text/plain": [
       "0.6591145307763129"
      ]
     },
     "metadata": {},
     "output_type": "display_data"
    },
    {
     "data": {
      "text/plain": [
       "MFrecreation"
      ]
     },
     "metadata": {},
     "output_type": "display_data"
    },
    {
     "data": {
      "text/plain": [
       "0.6333696867317651"
      ]
     },
     "metadata": {},
     "output_type": "display_data"
    },
    {
     "data": {
      "text/plain": [
       "MFwater"
      ]
     },
     "metadata": {},
     "output_type": "display_data"
    },
    {
     "data": {
      "text/plain": [
       "0.9999999999999979"
      ]
     },
     "metadata": {},
     "output_type": "display_data"
    }
   ],
   "source": [
    "mfo.solveMultifunctionality()"
   ]
  },
  {
   "cell_type": "markdown",
   "metadata": {},
   "source": [
    "## Visualization of optimal solution\n"
   ]
  },
  {
   "cell_type": "code",
   "execution_count": 32,
   "metadata": {},
   "outputs": [],
   "source": [
    "regimeAmounts = {regime:0 for regime in mfo.regimes}\n",
    "for key in mfo.regimesDecision.keys():\n",
    "    regimeAmounts[key[1]] +=mfo.regimesDecision[key].solution_value()*mfo.standAreas.loc[key[0],\"tsd_ha2total\"]/mfo.standAreas[\"tsd_ha2total\"].sum()"
   ]
  },
  {
   "cell_type": "code",
   "execution_count": 33,
   "metadata": {
    "scrolled": false
   },
   "outputs": [
    {
     "name": "stdout",
     "output_type": "stream",
     "text": [
      "Populating the interactive namespace from numpy and matplotlib\n"
     ]
    }
   ],
   "source": [
    "%pylab notebook"
   ]
  },
  {
   "cell_type": "code",
   "execution_count": 34,
   "metadata": {
    "scrolled": true
   },
   "outputs": [
    {
     "data": {
      "text/plain": [
       "[0.0669251292712029,\n",
       " 0.21699361030191494,\n",
       " 0.09868527213963216,\n",
       " 0.059199588691822465,\n",
       " 0.04072572049750508,\n",
       " 0.2618201678989535,\n",
       " 0.0,\n",
       " 0.0017927805834429807,\n",
       " 0.001896660468606087,\n",
       " 0.0,\n",
       " 0.0062747320420504325,\n",
       " 0.004902200008677774,\n",
       " 0.018784954546625186,\n",
       " 0.0,\n",
       " 0.0,\n",
       " 0.0,\n",
       " 0.0026891708751644715,\n",
       " 0.0,\n",
       " 0.005378341750328943,\n",
       " 0.0035855611668859618,\n",
       " 0.0007171122333771926,\n",
       " 0.0,\n",
       " 0.0006823635137437982,\n",
       " 0.022409757293037263,\n",
       " 0.0017927805834429809,\n",
       " 0.001149731681839317,\n",
       " 0.002435829485046645,\n",
       " 0.004160961720398085,\n",
       " 0.01861619799556371,\n",
       " 0.010258090905151106,\n",
       " 0.005921035358925351,\n",
       " 0.0008963902917214907,\n",
       " 0.0,\n",
       " 0.0,\n",
       " 0.0,\n",
       " 0.002903197653142165,\n",
       " 0.0017927805834429809,\n",
       " 0.0,\n",
       " 0.0,\n",
       " 0.0,\n",
       " 0.0,\n",
       " 0.0035855611668859618,\n",
       " 0.0008847805868191126,\n",
       " 0.0,\n",
       " 0.0,\n",
       " 0.0,\n",
       " 0.0,\n",
       " 0.0,\n",
       " 0.0018331303286774428,\n",
       " 0.0028657233178427935,\n",
       " 0.0,\n",
       " 0.0,\n",
       " 0.0017927805834429809,\n",
       " 0.0023654900882742105,\n",
       " 0.004886560726744184,\n",
       " 0.0017118521021965098,\n",
       " 0.0,\n",
       " 0.0,\n",
       " 0.0,\n",
       " 0.004305399015928938,\n",
       " 0.0,\n",
       " 0.0011421401562083143,\n",
       " 0.0,\n",
       " 0.0,\n",
       " 0.0016400013138178446,\n",
       " 0.0,\n",
       " 0.0015870037363795214,\n",
       " 0.0,\n",
       " 0.0,\n",
       " 0.0,\n",
       " 0.005337992005094482,\n",
       " 0.0,\n",
       " 0.0009079999966238683,\n",
       " 0.0,\n",
       " 0.0,\n",
       " 0.0017927805834429807,\n",
       " 0.0012810253144312069,\n",
       " 0.002955176279689422,\n",
       " 0.0,\n",
       " 0.0,\n",
       " 0.0,\n",
       " 0.0,\n",
       " 0.0017927805834429809,\n",
       " 0.0,\n",
       " 0.0,\n",
       " 0.005378341750328942,\n",
       " 0.0,\n",
       " 0.0017927805834429809,\n",
       " 0.001075668350065789,\n",
       " 0.0,\n",
       " 0.0,\n",
       " 0.0,\n",
       " 0.0,\n",
       " 0.0,\n",
       " 0.0,\n",
       " 0.0,\n",
       " 0.0785237895548026,\n",
       " 0.004123395341918856,\n",
       " 0.003047726991853068]"
      ]
     },
     "execution_count": 34,
     "metadata": {},
     "output_type": "execute_result"
    }
   ],
   "source": [
    "[val for val in regimeAmounts.values()]"
   ]
  },
  {
   "cell_type": "code",
   "execution_count": 35,
   "metadata": {
    "scrolled": false
   },
   "outputs": [
    {
     "data": {
      "application/javascript": [
       "/* Put everything inside the global mpl namespace */\n",
       "window.mpl = {};\n",
       "\n",
       "\n",
       "mpl.get_websocket_type = function() {\n",
       "    if (typeof(WebSocket) !== 'undefined') {\n",
       "        return WebSocket;\n",
       "    } else if (typeof(MozWebSocket) !== 'undefined') {\n",
       "        return MozWebSocket;\n",
       "    } else {\n",
       "        alert('Your browser does not have WebSocket support. ' +\n",
       "              'Please try Chrome, Safari or Firefox ≥ 6. ' +\n",
       "              'Firefox 4 and 5 are also supported but you ' +\n",
       "              'have to enable WebSockets in about:config.');\n",
       "    };\n",
       "}\n",
       "\n",
       "mpl.figure = function(figure_id, websocket, ondownload, parent_element) {\n",
       "    this.id = figure_id;\n",
       "\n",
       "    this.ws = websocket;\n",
       "\n",
       "    this.supports_binary = (this.ws.binaryType != undefined);\n",
       "\n",
       "    if (!this.supports_binary) {\n",
       "        var warnings = document.getElementById(\"mpl-warnings\");\n",
       "        if (warnings) {\n",
       "            warnings.style.display = 'block';\n",
       "            warnings.textContent = (\n",
       "                \"This browser does not support binary websocket messages. \" +\n",
       "                    \"Performance may be slow.\");\n",
       "        }\n",
       "    }\n",
       "\n",
       "    this.imageObj = new Image();\n",
       "\n",
       "    this.context = undefined;\n",
       "    this.message = undefined;\n",
       "    this.canvas = undefined;\n",
       "    this.rubberband_canvas = undefined;\n",
       "    this.rubberband_context = undefined;\n",
       "    this.format_dropdown = undefined;\n",
       "\n",
       "    this.image_mode = 'full';\n",
       "\n",
       "    this.root = $('<div/>');\n",
       "    this._root_extra_style(this.root)\n",
       "    this.root.attr('style', 'display: inline-block');\n",
       "\n",
       "    $(parent_element).append(this.root);\n",
       "\n",
       "    this._init_header(this);\n",
       "    this._init_canvas(this);\n",
       "    this._init_toolbar(this);\n",
       "\n",
       "    var fig = this;\n",
       "\n",
       "    this.waiting = false;\n",
       "\n",
       "    this.ws.onopen =  function () {\n",
       "            fig.send_message(\"supports_binary\", {value: fig.supports_binary});\n",
       "            fig.send_message(\"send_image_mode\", {});\n",
       "            if (mpl.ratio != 1) {\n",
       "                fig.send_message(\"set_dpi_ratio\", {'dpi_ratio': mpl.ratio});\n",
       "            }\n",
       "            fig.send_message(\"refresh\", {});\n",
       "        }\n",
       "\n",
       "    this.imageObj.onload = function() {\n",
       "            if (fig.image_mode == 'full') {\n",
       "                // Full images could contain transparency (where diff images\n",
       "                // almost always do), so we need to clear the canvas so that\n",
       "                // there is no ghosting.\n",
       "                fig.context.clearRect(0, 0, fig.canvas.width, fig.canvas.height);\n",
       "            }\n",
       "            fig.context.drawImage(fig.imageObj, 0, 0);\n",
       "        };\n",
       "\n",
       "    this.imageObj.onunload = function() {\n",
       "        fig.ws.close();\n",
       "    }\n",
       "\n",
       "    this.ws.onmessage = this._make_on_message_function(this);\n",
       "\n",
       "    this.ondownload = ondownload;\n",
       "}\n",
       "\n",
       "mpl.figure.prototype._init_header = function() {\n",
       "    var titlebar = $(\n",
       "        '<div class=\"ui-dialog-titlebar ui-widget-header ui-corner-all ' +\n",
       "        'ui-helper-clearfix\"/>');\n",
       "    var titletext = $(\n",
       "        '<div class=\"ui-dialog-title\" style=\"width: 100%; ' +\n",
       "        'text-align: center; padding: 3px;\"/>');\n",
       "    titlebar.append(titletext)\n",
       "    this.root.append(titlebar);\n",
       "    this.header = titletext[0];\n",
       "}\n",
       "\n",
       "\n",
       "\n",
       "mpl.figure.prototype._canvas_extra_style = function(canvas_div) {\n",
       "\n",
       "}\n",
       "\n",
       "\n",
       "mpl.figure.prototype._root_extra_style = function(canvas_div) {\n",
       "\n",
       "}\n",
       "\n",
       "mpl.figure.prototype._init_canvas = function() {\n",
       "    var fig = this;\n",
       "\n",
       "    var canvas_div = $('<div/>');\n",
       "\n",
       "    canvas_div.attr('style', 'position: relative; clear: both; outline: 0');\n",
       "\n",
       "    function canvas_keyboard_event(event) {\n",
       "        return fig.key_event(event, event['data']);\n",
       "    }\n",
       "\n",
       "    canvas_div.keydown('key_press', canvas_keyboard_event);\n",
       "    canvas_div.keyup('key_release', canvas_keyboard_event);\n",
       "    this.canvas_div = canvas_div\n",
       "    this._canvas_extra_style(canvas_div)\n",
       "    this.root.append(canvas_div);\n",
       "\n",
       "    var canvas = $('<canvas/>');\n",
       "    canvas.addClass('mpl-canvas');\n",
       "    canvas.attr('style', \"left: 0; top: 0; z-index: 0; outline: 0\")\n",
       "\n",
       "    this.canvas = canvas[0];\n",
       "    this.context = canvas[0].getContext(\"2d\");\n",
       "\n",
       "    var backingStore = this.context.backingStorePixelRatio ||\n",
       "\tthis.context.webkitBackingStorePixelRatio ||\n",
       "\tthis.context.mozBackingStorePixelRatio ||\n",
       "\tthis.context.msBackingStorePixelRatio ||\n",
       "\tthis.context.oBackingStorePixelRatio ||\n",
       "\tthis.context.backingStorePixelRatio || 1;\n",
       "\n",
       "    mpl.ratio = (window.devicePixelRatio || 1) / backingStore;\n",
       "\n",
       "    var rubberband = $('<canvas/>');\n",
       "    rubberband.attr('style', \"position: absolute; left: 0; top: 0; z-index: 1;\")\n",
       "\n",
       "    var pass_mouse_events = true;\n",
       "\n",
       "    canvas_div.resizable({\n",
       "        start: function(event, ui) {\n",
       "            pass_mouse_events = false;\n",
       "        },\n",
       "        resize: function(event, ui) {\n",
       "            fig.request_resize(ui.size.width, ui.size.height);\n",
       "        },\n",
       "        stop: function(event, ui) {\n",
       "            pass_mouse_events = true;\n",
       "            fig.request_resize(ui.size.width, ui.size.height);\n",
       "        },\n",
       "    });\n",
       "\n",
       "    function mouse_event_fn(event) {\n",
       "        if (pass_mouse_events)\n",
       "            return fig.mouse_event(event, event['data']);\n",
       "    }\n",
       "\n",
       "    rubberband.mousedown('button_press', mouse_event_fn);\n",
       "    rubberband.mouseup('button_release', mouse_event_fn);\n",
       "    // Throttle sequential mouse events to 1 every 20ms.\n",
       "    rubberband.mousemove('motion_notify', mouse_event_fn);\n",
       "\n",
       "    rubberband.mouseenter('figure_enter', mouse_event_fn);\n",
       "    rubberband.mouseleave('figure_leave', mouse_event_fn);\n",
       "\n",
       "    canvas_div.on(\"wheel\", function (event) {\n",
       "        event = event.originalEvent;\n",
       "        event['data'] = 'scroll'\n",
       "        if (event.deltaY < 0) {\n",
       "            event.step = 1;\n",
       "        } else {\n",
       "            event.step = -1;\n",
       "        }\n",
       "        mouse_event_fn(event);\n",
       "    });\n",
       "\n",
       "    canvas_div.append(canvas);\n",
       "    canvas_div.append(rubberband);\n",
       "\n",
       "    this.rubberband = rubberband;\n",
       "    this.rubberband_canvas = rubberband[0];\n",
       "    this.rubberband_context = rubberband[0].getContext(\"2d\");\n",
       "    this.rubberband_context.strokeStyle = \"#000000\";\n",
       "\n",
       "    this._resize_canvas = function(width, height) {\n",
       "        // Keep the size of the canvas, canvas container, and rubber band\n",
       "        // canvas in synch.\n",
       "        canvas_div.css('width', width)\n",
       "        canvas_div.css('height', height)\n",
       "\n",
       "        canvas.attr('width', width * mpl.ratio);\n",
       "        canvas.attr('height', height * mpl.ratio);\n",
       "        canvas.attr('style', 'width: ' + width + 'px; height: ' + height + 'px;');\n",
       "\n",
       "        rubberband.attr('width', width);\n",
       "        rubberband.attr('height', height);\n",
       "    }\n",
       "\n",
       "    // Set the figure to an initial 600x600px, this will subsequently be updated\n",
       "    // upon first draw.\n",
       "    this._resize_canvas(600, 600);\n",
       "\n",
       "    // Disable right mouse context menu.\n",
       "    $(this.rubberband_canvas).bind(\"contextmenu\",function(e){\n",
       "        return false;\n",
       "    });\n",
       "\n",
       "    function set_focus () {\n",
       "        canvas.focus();\n",
       "        canvas_div.focus();\n",
       "    }\n",
       "\n",
       "    window.setTimeout(set_focus, 100);\n",
       "}\n",
       "\n",
       "mpl.figure.prototype._init_toolbar = function() {\n",
       "    var fig = this;\n",
       "\n",
       "    var nav_element = $('<div/>');\n",
       "    nav_element.attr('style', 'width: 100%');\n",
       "    this.root.append(nav_element);\n",
       "\n",
       "    // Define a callback function for later on.\n",
       "    function toolbar_event(event) {\n",
       "        return fig.toolbar_button_onclick(event['data']);\n",
       "    }\n",
       "    function toolbar_mouse_event(event) {\n",
       "        return fig.toolbar_button_onmouseover(event['data']);\n",
       "    }\n",
       "\n",
       "    for(var toolbar_ind in mpl.toolbar_items) {\n",
       "        var name = mpl.toolbar_items[toolbar_ind][0];\n",
       "        var tooltip = mpl.toolbar_items[toolbar_ind][1];\n",
       "        var image = mpl.toolbar_items[toolbar_ind][2];\n",
       "        var method_name = mpl.toolbar_items[toolbar_ind][3];\n",
       "\n",
       "        if (!name) {\n",
       "            // put a spacer in here.\n",
       "            continue;\n",
       "        }\n",
       "        var button = $('<button/>');\n",
       "        button.addClass('ui-button ui-widget ui-state-default ui-corner-all ' +\n",
       "                        'ui-button-icon-only');\n",
       "        button.attr('role', 'button');\n",
       "        button.attr('aria-disabled', 'false');\n",
       "        button.click(method_name, toolbar_event);\n",
       "        button.mouseover(tooltip, toolbar_mouse_event);\n",
       "\n",
       "        var icon_img = $('<span/>');\n",
       "        icon_img.addClass('ui-button-icon-primary ui-icon');\n",
       "        icon_img.addClass(image);\n",
       "        icon_img.addClass('ui-corner-all');\n",
       "\n",
       "        var tooltip_span = $('<span/>');\n",
       "        tooltip_span.addClass('ui-button-text');\n",
       "        tooltip_span.html(tooltip);\n",
       "\n",
       "        button.append(icon_img);\n",
       "        button.append(tooltip_span);\n",
       "\n",
       "        nav_element.append(button);\n",
       "    }\n",
       "\n",
       "    var fmt_picker_span = $('<span/>');\n",
       "\n",
       "    var fmt_picker = $('<select/>');\n",
       "    fmt_picker.addClass('mpl-toolbar-option ui-widget ui-widget-content');\n",
       "    fmt_picker_span.append(fmt_picker);\n",
       "    nav_element.append(fmt_picker_span);\n",
       "    this.format_dropdown = fmt_picker[0];\n",
       "\n",
       "    for (var ind in mpl.extensions) {\n",
       "        var fmt = mpl.extensions[ind];\n",
       "        var option = $(\n",
       "            '<option/>', {selected: fmt === mpl.default_extension}).html(fmt);\n",
       "        fmt_picker.append(option);\n",
       "    }\n",
       "\n",
       "    // Add hover states to the ui-buttons\n",
       "    $( \".ui-button\" ).hover(\n",
       "        function() { $(this).addClass(\"ui-state-hover\");},\n",
       "        function() { $(this).removeClass(\"ui-state-hover\");}\n",
       "    );\n",
       "\n",
       "    var status_bar = $('<span class=\"mpl-message\"/>');\n",
       "    nav_element.append(status_bar);\n",
       "    this.message = status_bar[0];\n",
       "}\n",
       "\n",
       "mpl.figure.prototype.request_resize = function(x_pixels, y_pixels) {\n",
       "    // Request matplotlib to resize the figure. Matplotlib will then trigger a resize in the client,\n",
       "    // which will in turn request a refresh of the image.\n",
       "    this.send_message('resize', {'width': x_pixels, 'height': y_pixels});\n",
       "}\n",
       "\n",
       "mpl.figure.prototype.send_message = function(type, properties) {\n",
       "    properties['type'] = type;\n",
       "    properties['figure_id'] = this.id;\n",
       "    this.ws.send(JSON.stringify(properties));\n",
       "}\n",
       "\n",
       "mpl.figure.prototype.send_draw_message = function() {\n",
       "    if (!this.waiting) {\n",
       "        this.waiting = true;\n",
       "        this.ws.send(JSON.stringify({type: \"draw\", figure_id: this.id}));\n",
       "    }\n",
       "}\n",
       "\n",
       "\n",
       "mpl.figure.prototype.handle_save = function(fig, msg) {\n",
       "    var format_dropdown = fig.format_dropdown;\n",
       "    var format = format_dropdown.options[format_dropdown.selectedIndex].value;\n",
       "    fig.ondownload(fig, format);\n",
       "}\n",
       "\n",
       "\n",
       "mpl.figure.prototype.handle_resize = function(fig, msg) {\n",
       "    var size = msg['size'];\n",
       "    if (size[0] != fig.canvas.width || size[1] != fig.canvas.height) {\n",
       "        fig._resize_canvas(size[0], size[1]);\n",
       "        fig.send_message(\"refresh\", {});\n",
       "    };\n",
       "}\n",
       "\n",
       "mpl.figure.prototype.handle_rubberband = function(fig, msg) {\n",
       "    var x0 = msg['x0'] / mpl.ratio;\n",
       "    var y0 = (fig.canvas.height - msg['y0']) / mpl.ratio;\n",
       "    var x1 = msg['x1'] / mpl.ratio;\n",
       "    var y1 = (fig.canvas.height - msg['y1']) / mpl.ratio;\n",
       "    x0 = Math.floor(x0) + 0.5;\n",
       "    y0 = Math.floor(y0) + 0.5;\n",
       "    x1 = Math.floor(x1) + 0.5;\n",
       "    y1 = Math.floor(y1) + 0.5;\n",
       "    var min_x = Math.min(x0, x1);\n",
       "    var min_y = Math.min(y0, y1);\n",
       "    var width = Math.abs(x1 - x0);\n",
       "    var height = Math.abs(y1 - y0);\n",
       "\n",
       "    fig.rubberband_context.clearRect(\n",
       "        0, 0, fig.canvas.width / mpl.ratio, fig.canvas.height / mpl.ratio);\n",
       "\n",
       "    fig.rubberband_context.strokeRect(min_x, min_y, width, height);\n",
       "}\n",
       "\n",
       "mpl.figure.prototype.handle_figure_label = function(fig, msg) {\n",
       "    // Updates the figure title.\n",
       "    fig.header.textContent = msg['label'];\n",
       "}\n",
       "\n",
       "mpl.figure.prototype.handle_cursor = function(fig, msg) {\n",
       "    var cursor = msg['cursor'];\n",
       "    switch(cursor)\n",
       "    {\n",
       "    case 0:\n",
       "        cursor = 'pointer';\n",
       "        break;\n",
       "    case 1:\n",
       "        cursor = 'default';\n",
       "        break;\n",
       "    case 2:\n",
       "        cursor = 'crosshair';\n",
       "        break;\n",
       "    case 3:\n",
       "        cursor = 'move';\n",
       "        break;\n",
       "    }\n",
       "    fig.rubberband_canvas.style.cursor = cursor;\n",
       "}\n",
       "\n",
       "mpl.figure.prototype.handle_message = function(fig, msg) {\n",
       "    fig.message.textContent = msg['message'];\n",
       "}\n",
       "\n",
       "mpl.figure.prototype.handle_draw = function(fig, msg) {\n",
       "    // Request the server to send over a new figure.\n",
       "    fig.send_draw_message();\n",
       "}\n",
       "\n",
       "mpl.figure.prototype.handle_image_mode = function(fig, msg) {\n",
       "    fig.image_mode = msg['mode'];\n",
       "}\n",
       "\n",
       "mpl.figure.prototype.updated_canvas_event = function() {\n",
       "    // Called whenever the canvas gets updated.\n",
       "    this.send_message(\"ack\", {});\n",
       "}\n",
       "\n",
       "// A function to construct a web socket function for onmessage handling.\n",
       "// Called in the figure constructor.\n",
       "mpl.figure.prototype._make_on_message_function = function(fig) {\n",
       "    return function socket_on_message(evt) {\n",
       "        if (evt.data instanceof Blob) {\n",
       "            /* FIXME: We get \"Resource interpreted as Image but\n",
       "             * transferred with MIME type text/plain:\" errors on\n",
       "             * Chrome.  But how to set the MIME type?  It doesn't seem\n",
       "             * to be part of the websocket stream */\n",
       "            evt.data.type = \"image/png\";\n",
       "\n",
       "            /* Free the memory for the previous frames */\n",
       "            if (fig.imageObj.src) {\n",
       "                (window.URL || window.webkitURL).revokeObjectURL(\n",
       "                    fig.imageObj.src);\n",
       "            }\n",
       "\n",
       "            fig.imageObj.src = (window.URL || window.webkitURL).createObjectURL(\n",
       "                evt.data);\n",
       "            fig.updated_canvas_event();\n",
       "            fig.waiting = false;\n",
       "            return;\n",
       "        }\n",
       "        else if (typeof evt.data === 'string' && evt.data.slice(0, 21) == \"data:image/png;base64\") {\n",
       "            fig.imageObj.src = evt.data;\n",
       "            fig.updated_canvas_event();\n",
       "            fig.waiting = false;\n",
       "            return;\n",
       "        }\n",
       "\n",
       "        var msg = JSON.parse(evt.data);\n",
       "        var msg_type = msg['type'];\n",
       "\n",
       "        // Call the  \"handle_{type}\" callback, which takes\n",
       "        // the figure and JSON message as its only arguments.\n",
       "        try {\n",
       "            var callback = fig[\"handle_\" + msg_type];\n",
       "        } catch (e) {\n",
       "            console.log(\"No handler for the '\" + msg_type + \"' message type: \", msg);\n",
       "            return;\n",
       "        }\n",
       "\n",
       "        if (callback) {\n",
       "            try {\n",
       "                // console.log(\"Handling '\" + msg_type + \"' message: \", msg);\n",
       "                callback(fig, msg);\n",
       "            } catch (e) {\n",
       "                console.log(\"Exception inside the 'handler_\" + msg_type + \"' callback:\", e, e.stack, msg);\n",
       "            }\n",
       "        }\n",
       "    };\n",
       "}\n",
       "\n",
       "// from http://stackoverflow.com/questions/1114465/getting-mouse-location-in-canvas\n",
       "mpl.findpos = function(e) {\n",
       "    //this section is from http://www.quirksmode.org/js/events_properties.html\n",
       "    var targ;\n",
       "    if (!e)\n",
       "        e = window.event;\n",
       "    if (e.target)\n",
       "        targ = e.target;\n",
       "    else if (e.srcElement)\n",
       "        targ = e.srcElement;\n",
       "    if (targ.nodeType == 3) // defeat Safari bug\n",
       "        targ = targ.parentNode;\n",
       "\n",
       "    // jQuery normalizes the pageX and pageY\n",
       "    // pageX,Y are the mouse positions relative to the document\n",
       "    // offset() returns the position of the element relative to the document\n",
       "    var x = e.pageX - $(targ).offset().left;\n",
       "    var y = e.pageY - $(targ).offset().top;\n",
       "\n",
       "    return {\"x\": x, \"y\": y};\n",
       "};\n",
       "\n",
       "/*\n",
       " * return a copy of an object with only non-object keys\n",
       " * we need this to avoid circular references\n",
       " * http://stackoverflow.com/a/24161582/3208463\n",
       " */\n",
       "function simpleKeys (original) {\n",
       "  return Object.keys(original).reduce(function (obj, key) {\n",
       "    if (typeof original[key] !== 'object')\n",
       "        obj[key] = original[key]\n",
       "    return obj;\n",
       "  }, {});\n",
       "}\n",
       "\n",
       "mpl.figure.prototype.mouse_event = function(event, name) {\n",
       "    var canvas_pos = mpl.findpos(event)\n",
       "\n",
       "    if (name === 'button_press')\n",
       "    {\n",
       "        this.canvas.focus();\n",
       "        this.canvas_div.focus();\n",
       "    }\n",
       "\n",
       "    var x = canvas_pos.x * mpl.ratio;\n",
       "    var y = canvas_pos.y * mpl.ratio;\n",
       "\n",
       "    this.send_message(name, {x: x, y: y, button: event.button,\n",
       "                             step: event.step,\n",
       "                             guiEvent: simpleKeys(event)});\n",
       "\n",
       "    /* This prevents the web browser from automatically changing to\n",
       "     * the text insertion cursor when the button is pressed.  We want\n",
       "     * to control all of the cursor setting manually through the\n",
       "     * 'cursor' event from matplotlib */\n",
       "    event.preventDefault();\n",
       "    return false;\n",
       "}\n",
       "\n",
       "mpl.figure.prototype._key_event_extra = function(event, name) {\n",
       "    // Handle any extra behaviour associated with a key event\n",
       "}\n",
       "\n",
       "mpl.figure.prototype.key_event = function(event, name) {\n",
       "\n",
       "    // Prevent repeat events\n",
       "    if (name == 'key_press')\n",
       "    {\n",
       "        if (event.which === this._key)\n",
       "            return;\n",
       "        else\n",
       "            this._key = event.which;\n",
       "    }\n",
       "    if (name == 'key_release')\n",
       "        this._key = null;\n",
       "\n",
       "    var value = '';\n",
       "    if (event.ctrlKey && event.which != 17)\n",
       "        value += \"ctrl+\";\n",
       "    if (event.altKey && event.which != 18)\n",
       "        value += \"alt+\";\n",
       "    if (event.shiftKey && event.which != 16)\n",
       "        value += \"shift+\";\n",
       "\n",
       "    value += 'k';\n",
       "    value += event.which.toString();\n",
       "\n",
       "    this._key_event_extra(event, name);\n",
       "\n",
       "    this.send_message(name, {key: value,\n",
       "                             guiEvent: simpleKeys(event)});\n",
       "    return false;\n",
       "}\n",
       "\n",
       "mpl.figure.prototype.toolbar_button_onclick = function(name) {\n",
       "    if (name == 'download') {\n",
       "        this.handle_save(this, null);\n",
       "    } else {\n",
       "        this.send_message(\"toolbar_button\", {name: name});\n",
       "    }\n",
       "};\n",
       "\n",
       "mpl.figure.prototype.toolbar_button_onmouseover = function(tooltip) {\n",
       "    this.message.textContent = tooltip;\n",
       "};\n",
       "mpl.toolbar_items = [[\"Home\", \"Reset original view\", \"fa fa-home icon-home\", \"home\"], [\"Back\", \"Back to previous view\", \"fa fa-arrow-left icon-arrow-left\", \"back\"], [\"Forward\", \"Forward to next view\", \"fa fa-arrow-right icon-arrow-right\", \"forward\"], [\"\", \"\", \"\", \"\"], [\"Pan\", \"Pan axes with left mouse, zoom with right\", \"fa fa-arrows icon-move\", \"pan\"], [\"Zoom\", \"Zoom to rectangle\", \"fa fa-square-o icon-check-empty\", \"zoom\"], [\"\", \"\", \"\", \"\"], [\"Download\", \"Download plot\", \"fa fa-floppy-o icon-save\", \"download\"]];\n",
       "\n",
       "mpl.extensions = [\"eps\", \"pdf\", \"png\", \"ps\", \"raw\", \"svg\"];\n",
       "\n",
       "mpl.default_extension = \"png\";var comm_websocket_adapter = function(comm) {\n",
       "    // Create a \"websocket\"-like object which calls the given IPython comm\n",
       "    // object with the appropriate methods. Currently this is a non binary\n",
       "    // socket, so there is still some room for performance tuning.\n",
       "    var ws = {};\n",
       "\n",
       "    ws.close = function() {\n",
       "        comm.close()\n",
       "    };\n",
       "    ws.send = function(m) {\n",
       "        //console.log('sending', m);\n",
       "        comm.send(m);\n",
       "    };\n",
       "    // Register the callback with on_msg.\n",
       "    comm.on_msg(function(msg) {\n",
       "        //console.log('receiving', msg['content']['data'], msg);\n",
       "        // Pass the mpl event to the overridden (by mpl) onmessage function.\n",
       "        ws.onmessage(msg['content']['data'])\n",
       "    });\n",
       "    return ws;\n",
       "}\n",
       "\n",
       "mpl.mpl_figure_comm = function(comm, msg) {\n",
       "    // This is the function which gets called when the mpl process\n",
       "    // starts-up an IPython Comm through the \"matplotlib\" channel.\n",
       "\n",
       "    var id = msg.content.data.id;\n",
       "    // Get hold of the div created by the display call when the Comm\n",
       "    // socket was opened in Python.\n",
       "    var element = $(\"#\" + id);\n",
       "    var ws_proxy = comm_websocket_adapter(comm)\n",
       "\n",
       "    function ondownload(figure, format) {\n",
       "        window.open(figure.imageObj.src);\n",
       "    }\n",
       "\n",
       "    var fig = new mpl.figure(id, ws_proxy,\n",
       "                           ondownload,\n",
       "                           element.get(0));\n",
       "\n",
       "    // Call onopen now - mpl needs it, as it is assuming we've passed it a real\n",
       "    // web socket which is closed, not our websocket->open comm proxy.\n",
       "    ws_proxy.onopen();\n",
       "\n",
       "    fig.parent_element = element.get(0);\n",
       "    fig.cell_info = mpl.find_output_cell(\"<div id='\" + id + \"'></div>\");\n",
       "    if (!fig.cell_info) {\n",
       "        console.error(\"Failed to find cell for figure\", id, fig);\n",
       "        return;\n",
       "    }\n",
       "\n",
       "    var output_index = fig.cell_info[2]\n",
       "    var cell = fig.cell_info[0];\n",
       "\n",
       "};\n",
       "\n",
       "mpl.figure.prototype.handle_close = function(fig, msg) {\n",
       "    var width = fig.canvas.width/mpl.ratio\n",
       "    fig.root.unbind('remove')\n",
       "\n",
       "    // Update the output cell to use the data from the current canvas.\n",
       "    fig.push_to_output();\n",
       "    var dataURL = fig.canvas.toDataURL();\n",
       "    // Re-enable the keyboard manager in IPython - without this line, in FF,\n",
       "    // the notebook keyboard shortcuts fail.\n",
       "    IPython.keyboard_manager.enable()\n",
       "    $(fig.parent_element).html('<img src=\"' + dataURL + '\" width=\"' + width + '\">');\n",
       "    fig.close_ws(fig, msg);\n",
       "}\n",
       "\n",
       "mpl.figure.prototype.close_ws = function(fig, msg){\n",
       "    fig.send_message('closing', msg);\n",
       "    // fig.ws.close()\n",
       "}\n",
       "\n",
       "mpl.figure.prototype.push_to_output = function(remove_interactive) {\n",
       "    // Turn the data on the canvas into data in the output cell.\n",
       "    var width = this.canvas.width/mpl.ratio\n",
       "    var dataURL = this.canvas.toDataURL();\n",
       "    this.cell_info[1]['text/html'] = '<img src=\"' + dataURL + '\" width=\"' + width + '\">';\n",
       "}\n",
       "\n",
       "mpl.figure.prototype.updated_canvas_event = function() {\n",
       "    // Tell IPython that the notebook contents must change.\n",
       "    IPython.notebook.set_dirty(true);\n",
       "    this.send_message(\"ack\", {});\n",
       "    var fig = this;\n",
       "    // Wait a second, then push the new image to the DOM so\n",
       "    // that it is saved nicely (might be nice to debounce this).\n",
       "    setTimeout(function () { fig.push_to_output() }, 1000);\n",
       "}\n",
       "\n",
       "mpl.figure.prototype._init_toolbar = function() {\n",
       "    var fig = this;\n",
       "\n",
       "    var nav_element = $('<div/>');\n",
       "    nav_element.attr('style', 'width: 100%');\n",
       "    this.root.append(nav_element);\n",
       "\n",
       "    // Define a callback function for later on.\n",
       "    function toolbar_event(event) {\n",
       "        return fig.toolbar_button_onclick(event['data']);\n",
       "    }\n",
       "    function toolbar_mouse_event(event) {\n",
       "        return fig.toolbar_button_onmouseover(event['data']);\n",
       "    }\n",
       "\n",
       "    for(var toolbar_ind in mpl.toolbar_items){\n",
       "        var name = mpl.toolbar_items[toolbar_ind][0];\n",
       "        var tooltip = mpl.toolbar_items[toolbar_ind][1];\n",
       "        var image = mpl.toolbar_items[toolbar_ind][2];\n",
       "        var method_name = mpl.toolbar_items[toolbar_ind][3];\n",
       "\n",
       "        if (!name) { continue; };\n",
       "\n",
       "        var button = $('<button class=\"btn btn-default\" href=\"#\" title=\"' + name + '\"><i class=\"fa ' + image + ' fa-lg\"></i></button>');\n",
       "        button.click(method_name, toolbar_event);\n",
       "        button.mouseover(tooltip, toolbar_mouse_event);\n",
       "        nav_element.append(button);\n",
       "    }\n",
       "\n",
       "    // Add the status bar.\n",
       "    var status_bar = $('<span class=\"mpl-message\" style=\"text-align:right; float: right;\"/>');\n",
       "    nav_element.append(status_bar);\n",
       "    this.message = status_bar[0];\n",
       "\n",
       "    // Add the close button to the window.\n",
       "    var buttongrp = $('<div class=\"btn-group inline pull-right\"></div>');\n",
       "    var button = $('<button class=\"btn btn-mini btn-primary\" href=\"#\" title=\"Stop Interaction\"><i class=\"fa fa-power-off icon-remove icon-large\"></i></button>');\n",
       "    button.click(function (evt) { fig.handle_close(fig, {}); } );\n",
       "    button.mouseover('Stop Interaction', toolbar_mouse_event);\n",
       "    buttongrp.append(button);\n",
       "    var titlebar = this.root.find($('.ui-dialog-titlebar'));\n",
       "    titlebar.prepend(buttongrp);\n",
       "}\n",
       "\n",
       "mpl.figure.prototype._root_extra_style = function(el){\n",
       "    var fig = this\n",
       "    el.on(\"remove\", function(){\n",
       "\tfig.close_ws(fig, {});\n",
       "    });\n",
       "}\n",
       "\n",
       "mpl.figure.prototype._canvas_extra_style = function(el){\n",
       "    // this is important to make the div 'focusable\n",
       "    el.attr('tabindex', 0)\n",
       "    // reach out to IPython and tell the keyboard manager to turn it's self\n",
       "    // off when our div gets focus\n",
       "\n",
       "    // location in version 3\n",
       "    if (IPython.notebook.keyboard_manager) {\n",
       "        IPython.notebook.keyboard_manager.register_events(el);\n",
       "    }\n",
       "    else {\n",
       "        // location in version 2\n",
       "        IPython.keyboard_manager.register_events(el);\n",
       "    }\n",
       "\n",
       "}\n",
       "\n",
       "mpl.figure.prototype._key_event_extra = function(event, name) {\n",
       "    var manager = IPython.notebook.keyboard_manager;\n",
       "    if (!manager)\n",
       "        manager = IPython.keyboard_manager;\n",
       "\n",
       "    // Check for shift+enter\n",
       "    if (event.shiftKey && event.which == 13) {\n",
       "        this.canvas_div.blur();\n",
       "        // select the cell after this one\n",
       "        var index = IPython.notebook.find_cell_index(this.cell_info[0]);\n",
       "        IPython.notebook.select(index + 1);\n",
       "    }\n",
       "}\n",
       "\n",
       "mpl.figure.prototype.handle_save = function(fig, msg) {\n",
       "    fig.ondownload(fig, null);\n",
       "}\n",
       "\n",
       "\n",
       "mpl.find_output_cell = function(html_output) {\n",
       "    // Return the cell and output element which can be found *uniquely* in the notebook.\n",
       "    // Note - this is a bit hacky, but it is done because the \"notebook_saving.Notebook\"\n",
       "    // IPython event is triggered only after the cells have been serialised, which for\n",
       "    // our purposes (turning an active figure into a static one), is too late.\n",
       "    var cells = IPython.notebook.get_cells();\n",
       "    var ncells = cells.length;\n",
       "    for (var i=0; i<ncells; i++) {\n",
       "        var cell = cells[i];\n",
       "        if (cell.cell_type === 'code'){\n",
       "            for (var j=0; j<cell.output_area.outputs.length; j++) {\n",
       "                var data = cell.output_area.outputs[j];\n",
       "                if (data.data) {\n",
       "                    // IPython >= 3 moved mimebundle to data attribute of output\n",
       "                    data = data.data;\n",
       "                }\n",
       "                if (data['text/html'] == html_output) {\n",
       "                    return [cell, data, j];\n",
       "                }\n",
       "            }\n",
       "        }\n",
       "    }\n",
       "}\n",
       "\n",
       "// Register the function which deals with the matplotlib target/channel.\n",
       "// The kernel may be null if the page has been refreshed.\n",
       "if (IPython.notebook.kernel != null) {\n",
       "    IPython.notebook.kernel.comm_manager.register_target('matplotlib', mpl.mpl_figure_comm);\n",
       "}\n"
      ],
      "text/plain": [
       "<IPython.core.display.Javascript object>"
      ]
     },
     "metadata": {},
     "output_type": "display_data"
    },
    {
     "data": {
      "text/html": [
       "<img src=\"data:image/png;base64,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\" width=\"640\">"
      ],
      "text/plain": [
       "<IPython.core.display.HTML object>"
      ]
     },
     "metadata": {},
     "output_type": "display_data"
    },
    {
     "data": {
      "text/plain": [
       "[<matplotlib.lines.Line2D at 0x7fe3c62dd3d0>]"
      ]
     },
     "execution_count": 35,
     "metadata": {},
     "output_type": "execute_result"
    }
   ],
   "source": [
    "plt.plot([key for key in regimeAmounts.keys()],[val for val in regimeAmounts.values()])"
   ]
  },
  {
   "cell_type": "code",
   "execution_count": 36,
   "metadata": {
    "scrolled": false
   },
   "outputs": [
    {
     "data": {
      "text/plain": [
       "([<matplotlib.axis.XTick at 0x7fe3c63d2b50>,\n",
       "  <matplotlib.axis.XTick at 0x7fe3c63d2b20>,\n",
       "  <matplotlib.axis.XTick at 0x7fe3c63d62e0>,\n",
       "  <matplotlib.axis.XTick at 0x7fe3c62dd790>,\n",
       "  <matplotlib.axis.XTick at 0x7fe3c62ddbe0>,\n",
       "  <matplotlib.axis.XTick at 0x7fe3c67d31f0>,\n",
       "  <matplotlib.axis.XTick at 0x7fe3c67d3790>,\n",
       "  <matplotlib.axis.XTick at 0x7fe3c67d3d30>,\n",
       "  <matplotlib.axis.XTick at 0x7fe3c67de310>,\n",
       "  <matplotlib.axis.XTick at 0x7fe3c67de820>,\n",
       "  <matplotlib.axis.XTick at 0x7fe3c67dedc0>,\n",
       "  <matplotlib.axis.XTick at 0x7fe3c67de4f0>,\n",
       "  <matplotlib.axis.XTick at 0x7fe3c67d3310>,\n",
       "  <matplotlib.axis.XTick at 0x7fe3c67c21c0>,\n",
       "  <matplotlib.axis.XTick at 0x7fe3c67c2520>,\n",
       "  <matplotlib.axis.XTick at 0x7fe3c67c2a60>,\n",
       "  <matplotlib.axis.XTick at 0x7fe3c67ca040>,\n",
       "  <matplotlib.axis.XTick at 0x7fe3c67ca5e0>,\n",
       "  <matplotlib.axis.XTick at 0x7fe3c67cab80>,\n",
       "  <matplotlib.axis.XTick at 0x7fe3c67c7370>,\n",
       "  <matplotlib.axis.XTick at 0x7fe3c67c75b0>,\n",
       "  <matplotlib.axis.XTick at 0x7fe3c67ca700>,\n",
       "  <matplotlib.axis.XTick at 0x7fe3c67c2370>,\n",
       "  <matplotlib.axis.XTick at 0x7fe3c67c71c0>,\n",
       "  <matplotlib.axis.XTick at 0x7fe3c67c7df0>,\n",
       "  <matplotlib.axis.XTick at 0x7fe3c67c44f0>,\n",
       "  <matplotlib.axis.XTick at 0x7fe3c67c4a90>,\n",
       "  <matplotlib.axis.XTick at 0x7fe3c67c5070>,\n",
       "  <matplotlib.axis.XTick at 0x7fe3c67c5610>,\n",
       "  <matplotlib.axis.XTick at 0x7fe3c67c5bb0>,\n",
       "  <matplotlib.axis.XTick at 0x7fe3c67f0520>,\n",
       "  <matplotlib.axis.XTick at 0x7fe3c67c5190>,\n",
       "  <matplotlib.axis.XTick at 0x7fe3c67c7b50>,\n",
       "  <matplotlib.axis.XTick at 0x7fe3c67f0220>,\n",
       "  <matplotlib.axis.XTick at 0x7fe3c67f0850>,\n",
       "  <matplotlib.axis.XTick at 0x7fe3c67f0e80>,\n",
       "  <matplotlib.axis.XTick at 0x7fe3c67e8340>,\n",
       "  <matplotlib.axis.XTick at 0x7fe3c67e8820>,\n",
       "  <matplotlib.axis.XTick at 0x7fe3c67e8ee0>,\n",
       "  <matplotlib.axis.XTick at 0x7fe3c67ec2e0>,\n",
       "  <matplotlib.axis.XTick at 0x7fe3c67e84f0>,\n",
       "  <matplotlib.axis.XTick at 0x7fe3c67f0340>,\n",
       "  <matplotlib.axis.XTick at 0x7fe3c67ec670>,\n",
       "  <matplotlib.axis.XTick at 0x7fe3c67ecdc0>,\n",
       "  <matplotlib.axis.XTick at 0x7fe3c67ce160>,\n",
       "  <matplotlib.axis.XTick at 0x7fe3c67ce6a0>,\n",
       "  <matplotlib.axis.XTick at 0x7fe3c67cee50>,\n",
       "  <matplotlib.axis.XTick at 0x7fe3c67ef1c0>,\n",
       "  <matplotlib.axis.XTick at 0x7fe3c67ef940>,\n",
       "  <matplotlib.axis.XTick at 0x7fe3c67efe50>,\n",
       "  <matplotlib.axis.XTick at 0x7fe3c67ef0a0>,\n",
       "  <matplotlib.axis.XTick at 0x7fe3c67ce1f0>,\n",
       "  <matplotlib.axis.XTick at 0x7fe3c67f09a0>,\n",
       "  <matplotlib.axis.XTick at 0x7fe3c618f520>,\n",
       "  <matplotlib.axis.XTick at 0x7fe3c618fac0>,\n",
       "  <matplotlib.axis.XTick at 0x7fe3c618a0a0>,\n",
       "  <matplotlib.axis.XTick at 0x7fe3c618a640>,\n",
       "  <matplotlib.axis.XTick at 0x7fe3c618abe0>,\n",
       "  <matplotlib.axis.XTick at 0x7fe3c61a81c0>,\n",
       "  <matplotlib.axis.XTick at 0x7fe3c61a8760>,\n",
       "  <matplotlib.axis.XTick at 0x7fe3c618fc10>,\n",
       "  <matplotlib.axis.XTick at 0x7fe3c67ecf70>,\n",
       "  <matplotlib.axis.XTick at 0x7fe3c61a8910>,\n",
       "  <matplotlib.axis.XTick at 0x7fe3c61a8eb0>,\n",
       "  <matplotlib.axis.XTick at 0x7fe3c61a1490>,\n",
       "  <matplotlib.axis.XTick at 0x7fe3c61a1970>,\n",
       "  <matplotlib.axis.XTick at 0x7fe3c61a1fd0>,\n",
       "  <matplotlib.axis.XTick at 0x7fe3c61815b0>,\n",
       "  <matplotlib.axis.XTick at 0x7fe3c6181b50>,\n",
       "  <matplotlib.axis.XTick at 0x7fe3c61a1430>,\n",
       "  <matplotlib.axis.XTick at 0x7fe3c618fbb0>,\n",
       "  <matplotlib.axis.XTick at 0x7fe3c6181160>,\n",
       "  <matplotlib.axis.XTick at 0x7fe3c61b8310>,\n",
       "  <matplotlib.axis.XTick at 0x7fe3c61b8910>,\n",
       "  <matplotlib.axis.XTick at 0x7fe3c61b8df0>,\n",
       "  <matplotlib.axis.XTick at 0x7fe3c61b5490>,\n",
       "  <matplotlib.axis.XTick at 0x7fe3c61b5970>,\n",
       "  <matplotlib.axis.XTick at 0x7fe3c61b5fa0>,\n",
       "  <matplotlib.axis.XTick at 0x7fe3c61b05b0>,\n",
       "  <matplotlib.axis.XTick at 0x7fe3c61b8ee0>,\n",
       "  <matplotlib.axis.XTick at 0x7fe3c6181280>,\n",
       "  <matplotlib.axis.XTick at 0x7fe3c618f0d0>,\n",
       "  <matplotlib.axis.XTick at 0x7fe3c67def10>,\n",
       "  <matplotlib.axis.XTick at 0x7fe3c61b0910>,\n",
       "  <matplotlib.axis.XTick at 0x7fe3c61b0eb0>,\n",
       "  <matplotlib.axis.XTick at 0x7fe3c61a74c0>,\n",
       "  <matplotlib.axis.XTick at 0x7fe3c61a79a0>,\n",
       "  <matplotlib.axis.XTick at 0x7fe3c6184040>,\n",
       "  <matplotlib.axis.XTick at 0x7fe3c61a75e0>,\n",
       "  <matplotlib.axis.XTick at 0x7fe3c67deeb0>,\n",
       "  <matplotlib.axis.XTick at 0x7fe3c61b5b50>,\n",
       "  <matplotlib.axis.XTick at 0x7fe3c6184820>,\n",
       "  <matplotlib.axis.XTick at 0x7fe3c6184dc0>,\n",
       "  <matplotlib.axis.XTick at 0x7fe3c61992b0>,\n",
       "  <matplotlib.axis.XTick at 0x7fe3c6199910>,\n",
       "  <matplotlib.axis.XTick at 0x7fe3c6199f40>,\n",
       "  <matplotlib.axis.XTick at 0x7fe3c70a44c0>,\n",
       "  <matplotlib.axis.XTick at 0x7fe3c70a4a60>,\n",
       "  <matplotlib.axis.XTick at 0x7fe3c6184e50>],\n",
       " <a list of 99 Text xticklabel objects>)"
      ]
     },
     "execution_count": 36,
     "metadata": {},
     "output_type": "execute_result"
    }
   ],
   "source": [
    "plt.bar(range(len(regimeAmounts)), list(regimeAmounts.values()), align='center')\n",
    "plt.xticks(range(len(regimeAmounts)), list(regimeAmounts.keys()),rotation=\"vertical\")"
   ]
  },
  {
   "cell_type": "markdown",
   "metadata": {},
   "source": [
    "## Export data as csv\n",
    "- Solution_alldata contains the optimal regime per stand AND the timely development of indicator values plus all other input columns (represented_are_by_NFIplot, region, NUTS2)\n",
    "- Solution contains only the selected optimal regime and its share (if multiple regimes per stand are selected)"
   ]
  },
  {
   "cell_type": "code",
   "execution_count": null,
   "metadata": {},
   "outputs": [],
   "source": [
    "import pandas as pd\n",
    "import os"
   ]
  },
  {
   "cell_type": "code",
   "execution_count": 36,
   "metadata": {},
   "outputs": [],
   "source": [
    "try:\n",
    "    os.mkdir(\"results\")\n",
    "except FileExistsError:\n",
    "    pass\n",
    "b = []\n",
    "c = []\n",
    "for key in mfo.regimesDecision.keys():\n",
    "    if mfo.regimesDecision[key].solution_value() > 0:\n",
    "        b = b+ [(key[0],x*5+2012, key[1]) for x in range(0,21)]\n",
    "        c = c+ [(key[0],key[1],mfo.regimesDecision[key].solution_value())]\n",
    "data2b = mfo.data.iloc[mfo.data.index.isin(b)]\n",
    "data2b.to_csv(\"./results/\"+scenario+\"_\"+RCP+\"_data.csv\")\n",
    "c1 = pd.DataFrame(c)\n",
    "c1.to_csv(\"./results/\"+scenario+\"_\"+RCP+\"_solutions.csv\")"
   ]
  },
  {
   "cell_type": "markdown",
   "metadata": {},
   "source": [
    "## Export objective ranges"
   ]
  },
  {
   "cell_type": "markdown",
   "metadata": {},
   "source": [
    "Save as json file"
   ]
  },
  {
   "cell_type": "code",
   "execution_count": 38,
   "metadata": {},
   "outputs": [],
   "source": [
    "import json\n",
    "mfo.objectiveRanges\n",
    "\n",
    "with open('./results/objectiveRanges_'+scenario+'_'+RCP+'.json', 'w') as json_file:\n",
    "  json.dump(mfo.objectiveRanges, json_file)"
   ]
  },
  {
   "cell_type": "markdown",
   "metadata": {},
   "source": [
    "Save as CSV."
   ]
  },
  {
   "cell_type": "code",
   "execution_count": 39,
   "metadata": {},
   "outputs": [],
   "source": [
    "df = pd.read_json('./results/objectiveRanges_'+scenario+'_'+RCP+'.json')\n",
    "\n",
    "df.to_csv('./results/objectiveRanges_'+scenario+'_'+RCP+'.csv')"
   ]
  },
  {
   "cell_type": "markdown",
   "metadata": {},
   "source": [
    "## Export objective values\n",
    "The optimal solution for each objective."
   ]
  },
  {
   "cell_type": "code",
   "execution_count": 40,
   "metadata": {},
   "outputs": [],
   "source": [
    "with open(\"./results/objectiveValues_\"+scenario+\"_\"+RCP+\".csv\",\"w\") as file:\n",
    "    delim = \"\"\n",
    "    for objName in mfo.objectiveTypes.keys():\n",
    "        file.write(delim+objName)\n",
    "        delim = \",\"\n",
    "    file.write(\"\\n\")\n",
    "    delim = \"\"\n",
    "    for objName in mfo.objectiveTypes.keys():\n",
    "        file.write(delim+str(mfo.objective[objName].solution_value()))\n",
    "        delim = \",\"\n",
    "    file.write(\"\\n\")"
   ]
  },
  {
   "cell_type": "code",
   "execution_count": null,
   "metadata": {},
   "outputs": [],
   "source": []
  }
 ],
 "metadata": {
  "kernelspec": {
   "display_name": "Python 3",
   "language": "python",
   "name": "python3"
  },
  "language_info": {
   "codemirror_mode": {
    "name": "ipython",
    "version": 3
   },
   "file_extension": ".py",
   "mimetype": "text/x-python",
   "name": "python",
   "nbconvert_exporter": "python",
   "pygments_lexer": "ipython3",
   "version": "3.8.10"
  }
 },
 "nbformat": 4,
 "nbformat_minor": 2
}
